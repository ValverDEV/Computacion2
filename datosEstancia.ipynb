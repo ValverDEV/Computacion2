{
 "cells": [
  {
   "cell_type": "code",
   "execution_count": 1,
   "metadata": {},
   "outputs": [],
   "source": [
    "import pandas as pd \n",
    "import numpy as np\n",
    "import matplotlib.pyplot as plt\n",
    "from sklearn.preprocessing import minmax_scale\n",
    "from sklearn.linear_model import LinearRegression"
   ]
  },
  {
   "cell_type": "code",
   "execution_count": 2,
   "metadata": {},
   "outputs": [],
   "source": [
    "data = pd.read_csv('encuesta.csv', encoding='UTF-8')"
   ]
  },
  {
   "cell_type": "code",
   "execution_count": 3,
   "metadata": {},
   "outputs": [
    {
     "output_type": "execute_result",
     "data": {
      "text/plain": [
       "     Marca temporal  \\\n",
       "0  03/06/2021 16:42   \n",
       "1  03/06/2021 16:49   \n",
       "2  03/06/2021 16:50   \n",
       "3  03/06/2021 16:50   \n",
       "4  03/06/2021 16:51   \n",
       "\n",
       "  ¿Practicas regularmente algún tipo de ejercicio de concentración (meditación, yoga, mindfulness, etc.)?  \\\n",
       "0                                                 No                                                        \n",
       "1                                                 No                                                        \n",
       "2                                                 No                                                        \n",
       "3                                                 No                                                        \n",
       "4                                                 No                                                        \n",
       "\n",
       "  Responde de acuerdo con la frecuencia con la que te ocurren las siguientes oraciones: [Cuando estudio me concentro fácilmente]  \\\n",
       "0                                       Casi siempre                                                                               \n",
       "1                                            Siempre                                                                               \n",
       "2                                            A veces                                                                               \n",
       "3                                            A veces                                                                               \n",
       "4                                       Casi siempre                                                                               \n",
       "\n",
       "  Responde de acuerdo con la frecuencia con la que te ocurren las siguientes oraciones: [Escucho música mientras estudio]  \\\n",
       "0                                            A veces                                                                        \n",
       "1                                            Siempre                                                                        \n",
       "2                                            A veces                                                                        \n",
       "3                                       Casi siempre                                                                        \n",
       "4                                            A veces                                                                        \n",
       "\n",
       "  Responde de acuerdo con la frecuencia con la que te ocurren las siguientes oraciones: [La música me ayuda a concentrar]  \\\n",
       "0                                            A veces                                                                        \n",
       "1                                            Siempre                                                                        \n",
       "2                                         Casi nunca                                                                        \n",
       "3                                       Casi siempre                                                                        \n",
       "4                                            A veces                                                                        \n",
       "\n",
       "  Responde de acuerdo con la frecuencia con la que te ocurren las siguientes oraciones: [Cambio de música según la actividad que realizo]  \\\n",
       "0                                         Casi nunca                                                                                        \n",
       "1                                            Siempre                                                                                        \n",
       "2                                            Siempre                                                                                        \n",
       "3                                         Casi nunca                                                                                        \n",
       "4                                         Casi nunca                                                                                        \n",
       "\n",
       "  Responde de acuerdo con la frecuencia con la que te ocurren las siguientes oraciones: [Considero que el tipo de música es adecuado para la actividad que realizo]  \\\n",
       "0                                            Siempre                                                                                                                  \n",
       "1                                            Siempre                                                                                                                  \n",
       "2                                       Casi siempre                                                                                                                  \n",
       "3                                            A veces                                                                                                                  \n",
       "4                                            A veces                                                                                                                  \n",
       "\n",
       "  Si escuchas música mientras estudias, qué géneros prefieres (puedes seleccionar más de uno). Si no escuchas, marca \"ninguno\" al final:  \\\n",
       "0                                 Clásica, Pop, Rock                                                                                       \n",
       "1                    Clásica, Electrónica, Pop, Soul                                                                                       \n",
       "2                                    De ambientación                                                                                       \n",
       "3                          Clásica, Electrónica, Pop                                                                                       \n",
       "4                  Clásica, Cumbia, Pop, Rock, Salsa                                                                                       \n",
       "\n",
       "  ¿Cuáles son tus géneros de música favoritos?  ¿Tiene letra?  \\\n",
       "0                                         Rock              4   \n",
       "1              Clásica, Electrónica, Pop, Rock              3   \n",
       "2                               Pop, Rap, Rock              2   \n",
       "3                    Clásica, Electrónica, Pop              4   \n",
       "4                     Cumbia, Pop, Rock, Salsa              5   \n",
       "\n",
       "   ¿Qué tan energética es?  ¿Qué tan predecible es? (repetitiva o estable)  \\\n",
       "0                        3                                               3   \n",
       "1                        2                                               1   \n",
       "2                        3                                               4   \n",
       "3                        4                                               3   \n",
       "4                        4                                               5   \n",
       "\n",
       "   ¿Cómo es su ritmo?  ¿A qué volumen la escuchas?  \n",
       "0                   3                            3  \n",
       "1                   3                            4  \n",
       "2                   3                            3  \n",
       "3                   4                            3  \n",
       "4                   5                            2  "
      ],
      "text/html": "<div>\n<style scoped>\n    .dataframe tbody tr th:only-of-type {\n        vertical-align: middle;\n    }\n\n    .dataframe tbody tr th {\n        vertical-align: top;\n    }\n\n    .dataframe thead th {\n        text-align: right;\n    }\n</style>\n<table border=\"1\" class=\"dataframe\">\n  <thead>\n    <tr style=\"text-align: right;\">\n      <th></th>\n      <th>Marca temporal</th>\n      <th>¿Practicas regularmente algún tipo de ejercicio de concentración (meditación, yoga, mindfulness, etc.)?</th>\n      <th>Responde de acuerdo con la frecuencia con la que te ocurren las siguientes oraciones: [Cuando estudio me concentro fácilmente]</th>\n      <th>Responde de acuerdo con la frecuencia con la que te ocurren las siguientes oraciones: [Escucho música mientras estudio]</th>\n      <th>Responde de acuerdo con la frecuencia con la que te ocurren las siguientes oraciones: [La música me ayuda a concentrar]</th>\n      <th>Responde de acuerdo con la frecuencia con la que te ocurren las siguientes oraciones: [Cambio de música según la actividad que realizo]</th>\n      <th>Responde de acuerdo con la frecuencia con la que te ocurren las siguientes oraciones: [Considero que el tipo de música es adecuado para la actividad que realizo]</th>\n      <th>Si escuchas música mientras estudias, qué géneros prefieres (puedes seleccionar más de uno). Si no escuchas, marca \"ninguno\" al final:</th>\n      <th>¿Cuáles son tus géneros de música favoritos?</th>\n      <th>¿Tiene letra?</th>\n      <th>¿Qué tan energética es?</th>\n      <th>¿Qué tan predecible es? (repetitiva o estable)</th>\n      <th>¿Cómo es su ritmo?</th>\n      <th>¿A qué volumen la escuchas?</th>\n    </tr>\n  </thead>\n  <tbody>\n    <tr>\n      <th>0</th>\n      <td>03/06/2021 16:42</td>\n      <td>No</td>\n      <td>Casi siempre</td>\n      <td>A veces</td>\n      <td>A veces</td>\n      <td>Casi nunca</td>\n      <td>Siempre</td>\n      <td>Clásica, Pop, Rock</td>\n      <td>Rock</td>\n      <td>4</td>\n      <td>3</td>\n      <td>3</td>\n      <td>3</td>\n      <td>3</td>\n    </tr>\n    <tr>\n      <th>1</th>\n      <td>03/06/2021 16:49</td>\n      <td>No</td>\n      <td>Siempre</td>\n      <td>Siempre</td>\n      <td>Siempre</td>\n      <td>Siempre</td>\n      <td>Siempre</td>\n      <td>Clásica, Electrónica, Pop, Soul</td>\n      <td>Clásica, Electrónica, Pop, Rock</td>\n      <td>3</td>\n      <td>2</td>\n      <td>1</td>\n      <td>3</td>\n      <td>4</td>\n    </tr>\n    <tr>\n      <th>2</th>\n      <td>03/06/2021 16:50</td>\n      <td>No</td>\n      <td>A veces</td>\n      <td>A veces</td>\n      <td>Casi nunca</td>\n      <td>Siempre</td>\n      <td>Casi siempre</td>\n      <td>De ambientación</td>\n      <td>Pop, Rap, Rock</td>\n      <td>2</td>\n      <td>3</td>\n      <td>4</td>\n      <td>3</td>\n      <td>3</td>\n    </tr>\n    <tr>\n      <th>3</th>\n      <td>03/06/2021 16:50</td>\n      <td>No</td>\n      <td>A veces</td>\n      <td>Casi siempre</td>\n      <td>Casi siempre</td>\n      <td>Casi nunca</td>\n      <td>A veces</td>\n      <td>Clásica, Electrónica, Pop</td>\n      <td>Clásica, Electrónica, Pop</td>\n      <td>4</td>\n      <td>4</td>\n      <td>3</td>\n      <td>4</td>\n      <td>3</td>\n    </tr>\n    <tr>\n      <th>4</th>\n      <td>03/06/2021 16:51</td>\n      <td>No</td>\n      <td>Casi siempre</td>\n      <td>A veces</td>\n      <td>A veces</td>\n      <td>Casi nunca</td>\n      <td>A veces</td>\n      <td>Clásica, Cumbia, Pop, Rock, Salsa</td>\n      <td>Cumbia, Pop, Rock, Salsa</td>\n      <td>5</td>\n      <td>4</td>\n      <td>5</td>\n      <td>5</td>\n      <td>2</td>\n    </tr>\n  </tbody>\n</table>\n</div>"
     },
     "metadata": {},
     "execution_count": 3
    }
   ],
   "source": [
    "data.head()"
   ]
  },
  {
   "cell_type": "code",
   "execution_count": 4,
   "metadata": {},
   "outputs": [],
   "source": [
    "generosEstudia = data.iloc[:,7].to_list()\n",
    "generosFav = data.iloc[:,8].to_list()\n"
   ]
  },
  {
   "cell_type": "code",
   "execution_count": 5,
   "metadata": {},
   "outputs": [
    {
     "output_type": "execute_result",
     "data": {
      "text/plain": [
       "['Country', 'Pop', 'Rap', 'Reguetón', 'Rock', 'OST']"
      ]
     },
     "metadata": {},
     "execution_count": 5
    }
   ],
   "source": [
    "generosEstudia[-2].split(', ')"
   ]
  },
  {
   "cell_type": "code",
   "execution_count": 6,
   "metadata": {},
   "outputs": [],
   "source": [
    "generosEstudia = [string.split(', ') for string in generosEstudia]\n",
    "generosFav = [string.split(', ') for string in generosFav]"
   ]
  },
  {
   "cell_type": "code",
   "execution_count": 7,
   "metadata": {},
   "outputs": [],
   "source": [
    "def conteo_favs_est(lista1, lista2):\n",
    "    puntaje = 0\n",
    "    for genero in lista1:\n",
    "        if genero in lista2:\n",
    "            puntaje += 1\n",
    "        else:\n",
    "            puntaje -= 0.5\n",
    "    return puntaje"
   ]
  },
  {
   "cell_type": "code",
   "execution_count": 8,
   "metadata": {},
   "outputs": [
    {
     "output_type": "execute_result",
     "data": {
      "text/plain": [
       "array([[ 0. ],\n",
       "       [ 2.5],\n",
       "       [-0.5],\n",
       "       [ 3. ],\n",
       "       [ 3.5],\n",
       "       [ 1. ],\n",
       "       [ 1. ],\n",
       "       [ 3. ],\n",
       "       [ 0. ],\n",
       "       [-1.5],\n",
       "       [ 1.5],\n",
       "       [ 0. ],\n",
       "       [ 4. ],\n",
       "       [ 3. ],\n",
       "       [-0.5],\n",
       "       [-0.5],\n",
       "       [-0.5],\n",
       "       [ 0.5],\n",
       "       [ 1.5],\n",
       "       [ 5. ],\n",
       "       [-0.5],\n",
       "       [ 0. ],\n",
       "       [-1.5],\n",
       "       [ 1. ],\n",
       "       [ 2. ],\n",
       "       [ 0.5],\n",
       "       [ 1.5],\n",
       "       [ 1.5],\n",
       "       [ 0.5],\n",
       "       [-0.5],\n",
       "       [ 1.5],\n",
       "       [-0.5],\n",
       "       [ 3. ],\n",
       "       [-0.5],\n",
       "       [-0.5],\n",
       "       [ 1.5],\n",
       "       [ 3.5],\n",
       "       [ 0. ],\n",
       "       [ 1.5]])"
      ]
     },
     "metadata": {},
     "execution_count": 8
    }
   ],
   "source": [
    "puntajes = [conteo_favs_est(generosEstudia[i], generosFav[i])for i in range(len(generosFav))]\n",
    "puntajes = np.array(puntajes)\n",
    "puntajes.reshape(len(puntajes), 1)"
   ]
  },
  {
   "cell_type": "code",
   "execution_count": 9,
   "metadata": {},
   "outputs": [],
   "source": [
    "puntajes = minmax_scale(puntajes, feature_range=(0,1), copy=True)"
   ]
  },
  {
   "cell_type": "code",
   "execution_count": 10,
   "metadata": {},
   "outputs": [
    {
     "output_type": "execute_result",
     "data": {
      "text/plain": [
       "array([0.23076923, 0.61538462, 0.15384615, 0.69230769, 0.76923077,\n",
       "       0.38461538, 0.38461538, 0.69230769, 0.23076923, 0.        ,\n",
       "       0.46153846, 0.23076923, 0.84615385, 0.69230769, 0.15384615,\n",
       "       0.15384615, 0.15384615, 0.30769231, 0.46153846, 1.        ,\n",
       "       0.15384615, 0.23076923, 0.        , 0.38461538, 0.53846154,\n",
       "       0.30769231, 0.46153846, 0.46153846, 0.30769231, 0.15384615,\n",
       "       0.46153846, 0.15384615, 0.69230769, 0.15384615, 0.15384615,\n",
       "       0.46153846, 0.76923077, 0.23076923, 0.46153846])"
      ]
     },
     "metadata": {},
     "execution_count": 10
    }
   ],
   "source": [
    "puntajes"
   ]
  },
  {
   "cell_type": "code",
   "execution_count": 11,
   "metadata": {},
   "outputs": [],
   "source": [
    "concentrar = data.iloc[:,4].to_list()\n",
    "cat_to_num = {'Nunca' : 1, 'Casi nunca': 2, 'A veces': 3, 'Casi siempre': 4, 'Siempre': 5}"
   ]
  },
  {
   "cell_type": "code",
   "execution_count": 12,
   "metadata": {},
   "outputs": [
    {
     "output_type": "execute_result",
     "data": {
      "text/plain": [
       "array([[3],\n",
       "       [5],\n",
       "       [2],\n",
       "       [4],\n",
       "       [3],\n",
       "       [5],\n",
       "       [4],\n",
       "       [3],\n",
       "       [5],\n",
       "       [5],\n",
       "       [4],\n",
       "       [4],\n",
       "       [3],\n",
       "       [3],\n",
       "       [4],\n",
       "       [3],\n",
       "       [1],\n",
       "       [4],\n",
       "       [3],\n",
       "       [3],\n",
       "       [3],\n",
       "       [4],\n",
       "       [3],\n",
       "       [3],\n",
       "       [3],\n",
       "       [2],\n",
       "       [5],\n",
       "       [2],\n",
       "       [3],\n",
       "       [2],\n",
       "       [3],\n",
       "       [2],\n",
       "       [5],\n",
       "       [1],\n",
       "       [3],\n",
       "       [3],\n",
       "       [3],\n",
       "       [3],\n",
       "       [3]])"
      ]
     },
     "metadata": {},
     "execution_count": 12
    }
   ],
   "source": [
    "concentrar = np.array([cat_to_num[i] for i in concentrar])\n",
    "concentrar.reshape(len(concentrar), 1)"
   ]
  },
  {
   "cell_type": "code",
   "execution_count": 13,
   "metadata": {},
   "outputs": [
    {
     "output_type": "execute_result",
     "data": {
      "text/plain": [
       "array([0.5 , 1.  , 0.25, 0.75, 0.5 , 1.  , 0.75, 0.5 , 1.  , 1.  , 0.75,\n",
       "       0.75, 0.5 , 0.5 , 0.75, 0.5 , 0.  , 0.75, 0.5 , 0.5 , 0.5 , 0.75,\n",
       "       0.5 , 0.5 , 0.5 , 0.25, 1.  , 0.25, 0.5 , 0.25, 0.5 , 0.25, 1.  ,\n",
       "       0.  , 0.5 , 0.5 , 0.5 , 0.5 , 0.5 ])"
      ]
     },
     "metadata": {},
     "execution_count": 13
    }
   ],
   "source": [
    "concentrar = minmax_scale(concentrar, feature_range=(0,1), copy=True)\n",
    "concentrar"
   ]
  },
  {
   "cell_type": "code",
   "execution_count": 14,
   "metadata": {},
   "outputs": [],
   "source": [
    "puntajes = np.array(list(puntajes)).reshape((-1,1))\n",
    "concentrar = list(concentrar)"
   ]
  },
  {
   "cell_type": "code",
   "execution_count": 15,
   "metadata": {},
   "outputs": [],
   "source": [
    "reg = LinearRegression().fit(puntajes, concentrar)"
   ]
  },
  {
   "cell_type": "code",
   "execution_count": 16,
   "metadata": {},
   "outputs": [
    {
     "output_type": "execute_result",
     "data": {
      "text/plain": [
       "array([0.1632734])"
      ]
     },
     "metadata": {},
     "execution_count": 16
    }
   ],
   "source": [
    "reg.coef_"
   ]
  },
  {
   "cell_type": "code",
   "execution_count": 17,
   "metadata": {},
   "outputs": [
    {
     "output_type": "execute_result",
     "data": {
      "text/plain": [
       "0.02362676775345407"
      ]
     },
     "metadata": {},
     "execution_count": 17
    }
   ],
   "source": [
    "reg.score(puntajes, concentrar)"
   ]
  },
  {
   "cell_type": "code",
   "execution_count": 18,
   "metadata": {},
   "outputs": [],
   "source": [
    "a = np.arange(0,1,0.1)\n",
    "b = [reg.predict([[i]]) for i in a]"
   ]
  },
  {
   "cell_type": "code",
   "execution_count": 19,
   "metadata": {},
   "outputs": [
    {
     "output_type": "execute_result",
     "data": {
      "text/plain": [
       "Text(0.5, 1.0, 'Concentración vs Relación Géneros Favoritos-Estudiar')"
      ]
     },
     "metadata": {},
     "execution_count": 19
    },
    {
     "output_type": "display_data",
     "data": {
      "text/plain": "<Figure size 432x288 with 1 Axes>",
      "image/svg+xml": "<?xml version=\"1.0\" encoding=\"utf-8\" standalone=\"no\"?>\r\n<!DOCTYPE svg PUBLIC \"-//W3C//DTD SVG 1.1//EN\"\r\n  \"http://www.w3.org/Graphics/SVG/1.1/DTD/svg11.dtd\">\r\n<!-- Created with matplotlib (https://matplotlib.org/) -->\r\n<svg height=\"277.714375pt\" version=\"1.1\" viewBox=\"0 0 385.78125 277.714375\" width=\"385.78125pt\" xmlns=\"http://www.w3.org/2000/svg\" xmlns:xlink=\"http://www.w3.org/1999/xlink\">\r\n <metadata>\r\n  <rdf:RDF xmlns:cc=\"http://creativecommons.org/ns#\" xmlns:dc=\"http://purl.org/dc/elements/1.1/\" xmlns:rdf=\"http://www.w3.org/1999/02/22-rdf-syntax-ns#\">\r\n   <cc:Work>\r\n    <dc:type rdf:resource=\"http://purl.org/dc/dcmitype/StillImage\"/>\r\n    <dc:date>2021-06-08T17:44:11.745514</dc:date>\r\n    <dc:format>image/svg+xml</dc:format>\r\n    <dc:creator>\r\n     <cc:Agent>\r\n      <dc:title>Matplotlib v3.3.4, https://matplotlib.org/</dc:title>\r\n     </cc:Agent>\r\n    </dc:creator>\r\n   </cc:Work>\r\n  </rdf:RDF>\r\n </metadata>\r\n <defs>\r\n  <style type=\"text/css\">*{stroke-linecap:butt;stroke-linejoin:round;}</style>\r\n </defs>\r\n <g id=\"figure_1\">\r\n  <g id=\"patch_1\">\r\n   <path d=\"M 0 277.714375 \r\nL 385.78125 277.714375 \r\nL 385.78125 0 \r\nL 0 0 \r\nz\r\n\" style=\"fill:none;\"/>\r\n  </g>\r\n  <g id=\"axes_1\">\r\n   <g id=\"patch_2\">\r\n    <path d=\"M 43.78125 239.758125 \r\nL 378.58125 239.758125 \r\nL 378.58125 22.318125 \r\nL 43.78125 22.318125 \r\nz\r\n\" style=\"fill:#ffffff;\"/>\r\n   </g>\r\n   <g id=\"PathCollection_1\">\r\n    <defs>\r\n     <path d=\"M 0 3 \r\nC 0.795609 3 1.55874 2.683901 2.12132 2.12132 \r\nC 2.683901 1.55874 3 0.795609 3 0 \r\nC 3 -0.795609 2.683901 -1.55874 2.12132 -2.12132 \r\nC 1.55874 -2.683901 0.795609 -3 0 -3 \r\nC -0.795609 -3 -1.55874 -2.683901 -2.12132 -2.12132 \r\nC -2.683901 -1.55874 -3 -0.795609 -3 0 \r\nC -3 0.795609 -2.683901 1.55874 -2.12132 2.12132 \r\nC -1.55874 2.683901 -0.795609 3 0 3 \r\nz\r\n\" id=\"mb6124d7561\" style=\"stroke:#ff0000;\"/>\r\n    </defs>\r\n    <g clip-path=\"url(#p96c44d2620)\">\r\n     <use style=\"fill:#ff0000;stroke:#ff0000;\" x=\"129.237194\" xlink:href=\"#mb6124d7561\" y=\"131.038125\"/>\r\n     <use style=\"fill:#ff0000;stroke:#ff0000;\" x=\"246.300131\" xlink:href=\"#mb6124d7561\" y=\"32.201761\"/>\r\n     <use style=\"fill:#ff0000;stroke:#ff0000;\" x=\"105.824607\" xlink:href=\"#mb6124d7561\" y=\"180.456307\"/>\r\n     <use style=\"fill:#ff0000;stroke:#ff0000;\" x=\"269.712719\" xlink:href=\"#mb6124d7561\" y=\"81.619943\"/>\r\n     <use style=\"fill:#ff0000;stroke:#ff0000;\" x=\"293.125306\" xlink:href=\"#mb6124d7561\" y=\"131.038125\"/>\r\n     <use style=\"fill:#ff0000;stroke:#ff0000;\" x=\"176.062369\" xlink:href=\"#mb6124d7561\" y=\"32.201761\"/>\r\n     <use style=\"fill:#ff0000;stroke:#ff0000;\" x=\"176.062369\" xlink:href=\"#mb6124d7561\" y=\"81.619943\"/>\r\n     <use style=\"fill:#ff0000;stroke:#ff0000;\" x=\"269.712719\" xlink:href=\"#mb6124d7561\" y=\"131.038125\"/>\r\n     <use style=\"fill:#ff0000;stroke:#ff0000;\" x=\"129.237194\" xlink:href=\"#mb6124d7561\" y=\"32.201761\"/>\r\n     <use style=\"fill:#ff0000;stroke:#ff0000;\" x=\"58.999432\" xlink:href=\"#mb6124d7561\" y=\"32.201761\"/>\r\n     <use style=\"fill:#ff0000;stroke:#ff0000;\" x=\"199.474956\" xlink:href=\"#mb6124d7561\" y=\"81.619943\"/>\r\n     <use style=\"fill:#ff0000;stroke:#ff0000;\" x=\"129.237194\" xlink:href=\"#mb6124d7561\" y=\"81.619943\"/>\r\n     <use style=\"fill:#ff0000;stroke:#ff0000;\" x=\"316.537893\" xlink:href=\"#mb6124d7561\" y=\"131.038125\"/>\r\n     <use style=\"fill:#ff0000;stroke:#ff0000;\" x=\"269.712719\" xlink:href=\"#mb6124d7561\" y=\"131.038125\"/>\r\n     <use style=\"fill:#ff0000;stroke:#ff0000;\" x=\"105.824607\" xlink:href=\"#mb6124d7561\" y=\"81.619943\"/>\r\n     <use style=\"fill:#ff0000;stroke:#ff0000;\" x=\"105.824607\" xlink:href=\"#mb6124d7561\" y=\"131.038125\"/>\r\n     <use style=\"fill:#ff0000;stroke:#ff0000;\" x=\"105.824607\" xlink:href=\"#mb6124d7561\" y=\"229.874489\"/>\r\n     <use style=\"fill:#ff0000;stroke:#ff0000;\" x=\"152.649781\" xlink:href=\"#mb6124d7561\" y=\"81.619943\"/>\r\n     <use style=\"fill:#ff0000;stroke:#ff0000;\" x=\"199.474956\" xlink:href=\"#mb6124d7561\" y=\"131.038125\"/>\r\n     <use style=\"fill:#ff0000;stroke:#ff0000;\" x=\"363.363068\" xlink:href=\"#mb6124d7561\" y=\"131.038125\"/>\r\n     <use style=\"fill:#ff0000;stroke:#ff0000;\" x=\"105.824607\" xlink:href=\"#mb6124d7561\" y=\"131.038125\"/>\r\n     <use style=\"fill:#ff0000;stroke:#ff0000;\" x=\"129.237194\" xlink:href=\"#mb6124d7561\" y=\"81.619943\"/>\r\n     <use style=\"fill:#ff0000;stroke:#ff0000;\" x=\"58.999432\" xlink:href=\"#mb6124d7561\" y=\"131.038125\"/>\r\n     <use style=\"fill:#ff0000;stroke:#ff0000;\" x=\"176.062369\" xlink:href=\"#mb6124d7561\" y=\"131.038125\"/>\r\n     <use style=\"fill:#ff0000;stroke:#ff0000;\" x=\"222.887544\" xlink:href=\"#mb6124d7561\" y=\"131.038125\"/>\r\n     <use style=\"fill:#ff0000;stroke:#ff0000;\" x=\"152.649781\" xlink:href=\"#mb6124d7561\" y=\"180.456307\"/>\r\n     <use style=\"fill:#ff0000;stroke:#ff0000;\" x=\"199.474956\" xlink:href=\"#mb6124d7561\" y=\"32.201761\"/>\r\n     <use style=\"fill:#ff0000;stroke:#ff0000;\" x=\"199.474956\" xlink:href=\"#mb6124d7561\" y=\"180.456307\"/>\r\n     <use style=\"fill:#ff0000;stroke:#ff0000;\" x=\"152.649781\" xlink:href=\"#mb6124d7561\" y=\"131.038125\"/>\r\n     <use style=\"fill:#ff0000;stroke:#ff0000;\" x=\"105.824607\" xlink:href=\"#mb6124d7561\" y=\"180.456307\"/>\r\n     <use style=\"fill:#ff0000;stroke:#ff0000;\" x=\"199.474956\" xlink:href=\"#mb6124d7561\" y=\"131.038125\"/>\r\n     <use style=\"fill:#ff0000;stroke:#ff0000;\" x=\"105.824607\" xlink:href=\"#mb6124d7561\" y=\"180.456307\"/>\r\n     <use style=\"fill:#ff0000;stroke:#ff0000;\" x=\"269.712719\" xlink:href=\"#mb6124d7561\" y=\"32.201761\"/>\r\n     <use style=\"fill:#ff0000;stroke:#ff0000;\" x=\"105.824607\" xlink:href=\"#mb6124d7561\" y=\"229.874489\"/>\r\n     <use style=\"fill:#ff0000;stroke:#ff0000;\" x=\"105.824607\" xlink:href=\"#mb6124d7561\" y=\"131.038125\"/>\r\n     <use style=\"fill:#ff0000;stroke:#ff0000;\" x=\"199.474956\" xlink:href=\"#mb6124d7561\" y=\"131.038125\"/>\r\n     <use style=\"fill:#ff0000;stroke:#ff0000;\" x=\"293.125306\" xlink:href=\"#mb6124d7561\" y=\"131.038125\"/>\r\n     <use style=\"fill:#ff0000;stroke:#ff0000;\" x=\"129.237194\" xlink:href=\"#mb6124d7561\" y=\"131.038125\"/>\r\n     <use style=\"fill:#ff0000;stroke:#ff0000;\" x=\"199.474956\" xlink:href=\"#mb6124d7561\" y=\"131.038125\"/>\r\n    </g>\r\n   </g>\r\n   <g id=\"matplotlib.axis_1\">\r\n    <g id=\"xtick_1\">\r\n     <g id=\"line2d_1\">\r\n      <defs>\r\n       <path d=\"M 0 0 \r\nL 0 3.5 \r\n\" id=\"me5e68aaad0\" style=\"stroke:#000000;stroke-width:0.8;\"/>\r\n      </defs>\r\n      <g>\r\n       <use style=\"stroke:#000000;stroke-width:0.8;\" x=\"58.999432\" xlink:href=\"#me5e68aaad0\" y=\"239.758125\"/>\r\n      </g>\r\n     </g>\r\n     <g id=\"text_1\">\r\n      <!-- 0.0 -->\r\n      <g transform=\"translate(51.047869 254.356563)scale(0.1 -0.1)\">\r\n       <defs>\r\n        <path d=\"M 31.78125 66.40625 \r\nQ 24.171875 66.40625 20.328125 58.90625 \r\nQ 16.5 51.421875 16.5 36.375 \r\nQ 16.5 21.390625 20.328125 13.890625 \r\nQ 24.171875 6.390625 31.78125 6.390625 \r\nQ 39.453125 6.390625 43.28125 13.890625 \r\nQ 47.125 21.390625 47.125 36.375 \r\nQ 47.125 51.421875 43.28125 58.90625 \r\nQ 39.453125 66.40625 31.78125 66.40625 \r\nz\r\nM 31.78125 74.21875 \r\nQ 44.046875 74.21875 50.515625 64.515625 \r\nQ 56.984375 54.828125 56.984375 36.375 \r\nQ 56.984375 17.96875 50.515625 8.265625 \r\nQ 44.046875 -1.421875 31.78125 -1.421875 \r\nQ 19.53125 -1.421875 13.0625 8.265625 \r\nQ 6.59375 17.96875 6.59375 36.375 \r\nQ 6.59375 54.828125 13.0625 64.515625 \r\nQ 19.53125 74.21875 31.78125 74.21875 \r\nz\r\n\" id=\"DejaVuSans-48\"/>\r\n        <path d=\"M 10.6875 12.40625 \r\nL 21 12.40625 \r\nL 21 0 \r\nL 10.6875 0 \r\nz\r\n\" id=\"DejaVuSans-46\"/>\r\n       </defs>\r\n       <use xlink:href=\"#DejaVuSans-48\"/>\r\n       <use x=\"63.623047\" xlink:href=\"#DejaVuSans-46\"/>\r\n       <use x=\"95.410156\" xlink:href=\"#DejaVuSans-48\"/>\r\n      </g>\r\n     </g>\r\n    </g>\r\n    <g id=\"xtick_2\">\r\n     <g id=\"line2d_2\">\r\n      <g>\r\n       <use style=\"stroke:#000000;stroke-width:0.8;\" x=\"119.872159\" xlink:href=\"#me5e68aaad0\" y=\"239.758125\"/>\r\n      </g>\r\n     </g>\r\n     <g id=\"text_2\">\r\n      <!-- 0.2 -->\r\n      <g transform=\"translate(111.920597 254.356563)scale(0.1 -0.1)\">\r\n       <defs>\r\n        <path d=\"M 19.1875 8.296875 \r\nL 53.609375 8.296875 \r\nL 53.609375 0 \r\nL 7.328125 0 \r\nL 7.328125 8.296875 \r\nQ 12.9375 14.109375 22.625 23.890625 \r\nQ 32.328125 33.6875 34.8125 36.53125 \r\nQ 39.546875 41.84375 41.421875 45.53125 \r\nQ 43.3125 49.21875 43.3125 52.78125 \r\nQ 43.3125 58.59375 39.234375 62.25 \r\nQ 35.15625 65.921875 28.609375 65.921875 \r\nQ 23.96875 65.921875 18.8125 64.3125 \r\nQ 13.671875 62.703125 7.8125 59.421875 \r\nL 7.8125 69.390625 \r\nQ 13.765625 71.78125 18.9375 73 \r\nQ 24.125 74.21875 28.421875 74.21875 \r\nQ 39.75 74.21875 46.484375 68.546875 \r\nQ 53.21875 62.890625 53.21875 53.421875 \r\nQ 53.21875 48.921875 51.53125 44.890625 \r\nQ 49.859375 40.875 45.40625 35.40625 \r\nQ 44.1875 33.984375 37.640625 27.21875 \r\nQ 31.109375 20.453125 19.1875 8.296875 \r\nz\r\n\" id=\"DejaVuSans-50\"/>\r\n       </defs>\r\n       <use xlink:href=\"#DejaVuSans-48\"/>\r\n       <use x=\"63.623047\" xlink:href=\"#DejaVuSans-46\"/>\r\n       <use x=\"95.410156\" xlink:href=\"#DejaVuSans-50\"/>\r\n      </g>\r\n     </g>\r\n    </g>\r\n    <g id=\"xtick_3\">\r\n     <g id=\"line2d_3\">\r\n      <g>\r\n       <use style=\"stroke:#000000;stroke-width:0.8;\" x=\"180.744886\" xlink:href=\"#me5e68aaad0\" y=\"239.758125\"/>\r\n      </g>\r\n     </g>\r\n     <g id=\"text_3\">\r\n      <!-- 0.4 -->\r\n      <g transform=\"translate(172.793324 254.356563)scale(0.1 -0.1)\">\r\n       <defs>\r\n        <path d=\"M 37.796875 64.3125 \r\nL 12.890625 25.390625 \r\nL 37.796875 25.390625 \r\nz\r\nM 35.203125 72.90625 \r\nL 47.609375 72.90625 \r\nL 47.609375 25.390625 \r\nL 58.015625 25.390625 \r\nL 58.015625 17.1875 \r\nL 47.609375 17.1875 \r\nL 47.609375 0 \r\nL 37.796875 0 \r\nL 37.796875 17.1875 \r\nL 4.890625 17.1875 \r\nL 4.890625 26.703125 \r\nz\r\n\" id=\"DejaVuSans-52\"/>\r\n       </defs>\r\n       <use xlink:href=\"#DejaVuSans-48\"/>\r\n       <use x=\"63.623047\" xlink:href=\"#DejaVuSans-46\"/>\r\n       <use x=\"95.410156\" xlink:href=\"#DejaVuSans-52\"/>\r\n      </g>\r\n     </g>\r\n    </g>\r\n    <g id=\"xtick_4\">\r\n     <g id=\"line2d_4\">\r\n      <g>\r\n       <use style=\"stroke:#000000;stroke-width:0.8;\" x=\"241.617614\" xlink:href=\"#me5e68aaad0\" y=\"239.758125\"/>\r\n      </g>\r\n     </g>\r\n     <g id=\"text_4\">\r\n      <!-- 0.6 -->\r\n      <g transform=\"translate(233.666051 254.356563)scale(0.1 -0.1)\">\r\n       <defs>\r\n        <path d=\"M 33.015625 40.375 \r\nQ 26.375 40.375 22.484375 35.828125 \r\nQ 18.609375 31.296875 18.609375 23.390625 \r\nQ 18.609375 15.53125 22.484375 10.953125 \r\nQ 26.375 6.390625 33.015625 6.390625 \r\nQ 39.65625 6.390625 43.53125 10.953125 \r\nQ 47.40625 15.53125 47.40625 23.390625 \r\nQ 47.40625 31.296875 43.53125 35.828125 \r\nQ 39.65625 40.375 33.015625 40.375 \r\nz\r\nM 52.59375 71.296875 \r\nL 52.59375 62.3125 \r\nQ 48.875 64.0625 45.09375 64.984375 \r\nQ 41.3125 65.921875 37.59375 65.921875 \r\nQ 27.828125 65.921875 22.671875 59.328125 \r\nQ 17.53125 52.734375 16.796875 39.40625 \r\nQ 19.671875 43.65625 24.015625 45.921875 \r\nQ 28.375 48.1875 33.59375 48.1875 \r\nQ 44.578125 48.1875 50.953125 41.515625 \r\nQ 57.328125 34.859375 57.328125 23.390625 \r\nQ 57.328125 12.15625 50.6875 5.359375 \r\nQ 44.046875 -1.421875 33.015625 -1.421875 \r\nQ 20.359375 -1.421875 13.671875 8.265625 \r\nQ 6.984375 17.96875 6.984375 36.375 \r\nQ 6.984375 53.65625 15.1875 63.9375 \r\nQ 23.390625 74.21875 37.203125 74.21875 \r\nQ 40.921875 74.21875 44.703125 73.484375 \r\nQ 48.484375 72.75 52.59375 71.296875 \r\nz\r\n\" id=\"DejaVuSans-54\"/>\r\n       </defs>\r\n       <use xlink:href=\"#DejaVuSans-48\"/>\r\n       <use x=\"63.623047\" xlink:href=\"#DejaVuSans-46\"/>\r\n       <use x=\"95.410156\" xlink:href=\"#DejaVuSans-54\"/>\r\n      </g>\r\n     </g>\r\n    </g>\r\n    <g id=\"xtick_5\">\r\n     <g id=\"line2d_5\">\r\n      <g>\r\n       <use style=\"stroke:#000000;stroke-width:0.8;\" x=\"302.490341\" xlink:href=\"#me5e68aaad0\" y=\"239.758125\"/>\r\n      </g>\r\n     </g>\r\n     <g id=\"text_5\">\r\n      <!-- 0.8 -->\r\n      <g transform=\"translate(294.538778 254.356563)scale(0.1 -0.1)\">\r\n       <defs>\r\n        <path d=\"M 31.78125 34.625 \r\nQ 24.75 34.625 20.71875 30.859375 \r\nQ 16.703125 27.09375 16.703125 20.515625 \r\nQ 16.703125 13.921875 20.71875 10.15625 \r\nQ 24.75 6.390625 31.78125 6.390625 \r\nQ 38.8125 6.390625 42.859375 10.171875 \r\nQ 46.921875 13.96875 46.921875 20.515625 \r\nQ 46.921875 27.09375 42.890625 30.859375 \r\nQ 38.875 34.625 31.78125 34.625 \r\nz\r\nM 21.921875 38.8125 \r\nQ 15.578125 40.375 12.03125 44.71875 \r\nQ 8.5 49.078125 8.5 55.328125 \r\nQ 8.5 64.0625 14.71875 69.140625 \r\nQ 20.953125 74.21875 31.78125 74.21875 \r\nQ 42.671875 74.21875 48.875 69.140625 \r\nQ 55.078125 64.0625 55.078125 55.328125 \r\nQ 55.078125 49.078125 51.53125 44.71875 \r\nQ 48 40.375 41.703125 38.8125 \r\nQ 48.828125 37.15625 52.796875 32.3125 \r\nQ 56.78125 27.484375 56.78125 20.515625 \r\nQ 56.78125 9.90625 50.3125 4.234375 \r\nQ 43.84375 -1.421875 31.78125 -1.421875 \r\nQ 19.734375 -1.421875 13.25 4.234375 \r\nQ 6.78125 9.90625 6.78125 20.515625 \r\nQ 6.78125 27.484375 10.78125 32.3125 \r\nQ 14.796875 37.15625 21.921875 38.8125 \r\nz\r\nM 18.3125 54.390625 \r\nQ 18.3125 48.734375 21.84375 45.5625 \r\nQ 25.390625 42.390625 31.78125 42.390625 \r\nQ 38.140625 42.390625 41.71875 45.5625 \r\nQ 45.3125 48.734375 45.3125 54.390625 \r\nQ 45.3125 60.0625 41.71875 63.234375 \r\nQ 38.140625 66.40625 31.78125 66.40625 \r\nQ 25.390625 66.40625 21.84375 63.234375 \r\nQ 18.3125 60.0625 18.3125 54.390625 \r\nz\r\n\" id=\"DejaVuSans-56\"/>\r\n       </defs>\r\n       <use xlink:href=\"#DejaVuSans-48\"/>\r\n       <use x=\"63.623047\" xlink:href=\"#DejaVuSans-46\"/>\r\n       <use x=\"95.410156\" xlink:href=\"#DejaVuSans-56\"/>\r\n      </g>\r\n     </g>\r\n    </g>\r\n    <g id=\"xtick_6\">\r\n     <g id=\"line2d_6\">\r\n      <g>\r\n       <use style=\"stroke:#000000;stroke-width:0.8;\" x=\"363.363068\" xlink:href=\"#me5e68aaad0\" y=\"239.758125\"/>\r\n      </g>\r\n     </g>\r\n     <g id=\"text_6\">\r\n      <!-- 1.0 -->\r\n      <g transform=\"translate(355.411506 254.356563)scale(0.1 -0.1)\">\r\n       <defs>\r\n        <path d=\"M 12.40625 8.296875 \r\nL 28.515625 8.296875 \r\nL 28.515625 63.921875 \r\nL 10.984375 60.40625 \r\nL 10.984375 69.390625 \r\nL 28.421875 72.90625 \r\nL 38.28125 72.90625 \r\nL 38.28125 8.296875 \r\nL 54.390625 8.296875 \r\nL 54.390625 0 \r\nL 12.40625 0 \r\nz\r\n\" id=\"DejaVuSans-49\"/>\r\n       </defs>\r\n       <use xlink:href=\"#DejaVuSans-49\"/>\r\n       <use x=\"63.623047\" xlink:href=\"#DejaVuSans-46\"/>\r\n       <use x=\"95.410156\" xlink:href=\"#DejaVuSans-48\"/>\r\n      </g>\r\n     </g>\r\n    </g>\r\n    <g id=\"text_7\">\r\n     <!-- Coincidencia de géneros escuchados en estudio con favoritos -->\r\n     <g transform=\"translate(56.848437 268.434687)scale(0.1 -0.1)\">\r\n      <defs>\r\n       <path d=\"M 64.40625 67.28125 \r\nL 64.40625 56.890625 \r\nQ 59.421875 61.53125 53.78125 63.8125 \r\nQ 48.140625 66.109375 41.796875 66.109375 \r\nQ 29.296875 66.109375 22.65625 58.46875 \r\nQ 16.015625 50.828125 16.015625 36.375 \r\nQ 16.015625 21.96875 22.65625 14.328125 \r\nQ 29.296875 6.6875 41.796875 6.6875 \r\nQ 48.140625 6.6875 53.78125 8.984375 \r\nQ 59.421875 11.28125 64.40625 15.921875 \r\nL 64.40625 5.609375 \r\nQ 59.234375 2.09375 53.4375 0.328125 \r\nQ 47.65625 -1.421875 41.21875 -1.421875 \r\nQ 24.65625 -1.421875 15.125 8.703125 \r\nQ 5.609375 18.84375 5.609375 36.375 \r\nQ 5.609375 53.953125 15.125 64.078125 \r\nQ 24.65625 74.21875 41.21875 74.21875 \r\nQ 47.75 74.21875 53.53125 72.484375 \r\nQ 59.328125 70.75 64.40625 67.28125 \r\nz\r\n\" id=\"DejaVuSans-67\"/>\r\n       <path d=\"M 30.609375 48.390625 \r\nQ 23.390625 48.390625 19.1875 42.75 \r\nQ 14.984375 37.109375 14.984375 27.296875 \r\nQ 14.984375 17.484375 19.15625 11.84375 \r\nQ 23.34375 6.203125 30.609375 6.203125 \r\nQ 37.796875 6.203125 41.984375 11.859375 \r\nQ 46.1875 17.53125 46.1875 27.296875 \r\nQ 46.1875 37.015625 41.984375 42.703125 \r\nQ 37.796875 48.390625 30.609375 48.390625 \r\nz\r\nM 30.609375 56 \r\nQ 42.328125 56 49.015625 48.375 \r\nQ 55.71875 40.765625 55.71875 27.296875 \r\nQ 55.71875 13.875 49.015625 6.21875 \r\nQ 42.328125 -1.421875 30.609375 -1.421875 \r\nQ 18.84375 -1.421875 12.171875 6.21875 \r\nQ 5.515625 13.875 5.515625 27.296875 \r\nQ 5.515625 40.765625 12.171875 48.375 \r\nQ 18.84375 56 30.609375 56 \r\nz\r\n\" id=\"DejaVuSans-111\"/>\r\n       <path d=\"M 9.421875 54.6875 \r\nL 18.40625 54.6875 \r\nL 18.40625 0 \r\nL 9.421875 0 \r\nz\r\nM 9.421875 75.984375 \r\nL 18.40625 75.984375 \r\nL 18.40625 64.59375 \r\nL 9.421875 64.59375 \r\nz\r\n\" id=\"DejaVuSans-105\"/>\r\n       <path d=\"M 54.890625 33.015625 \r\nL 54.890625 0 \r\nL 45.90625 0 \r\nL 45.90625 32.71875 \r\nQ 45.90625 40.484375 42.875 44.328125 \r\nQ 39.84375 48.1875 33.796875 48.1875 \r\nQ 26.515625 48.1875 22.3125 43.546875 \r\nQ 18.109375 38.921875 18.109375 30.90625 \r\nL 18.109375 0 \r\nL 9.078125 0 \r\nL 9.078125 54.6875 \r\nL 18.109375 54.6875 \r\nL 18.109375 46.1875 \r\nQ 21.34375 51.125 25.703125 53.5625 \r\nQ 30.078125 56 35.796875 56 \r\nQ 45.21875 56 50.046875 50.171875 \r\nQ 54.890625 44.34375 54.890625 33.015625 \r\nz\r\n\" id=\"DejaVuSans-110\"/>\r\n       <path d=\"M 48.78125 52.59375 \r\nL 48.78125 44.1875 \r\nQ 44.96875 46.296875 41.140625 47.34375 \r\nQ 37.3125 48.390625 33.40625 48.390625 \r\nQ 24.65625 48.390625 19.8125 42.84375 \r\nQ 14.984375 37.3125 14.984375 27.296875 \r\nQ 14.984375 17.28125 19.8125 11.734375 \r\nQ 24.65625 6.203125 33.40625 6.203125 \r\nQ 37.3125 6.203125 41.140625 7.25 \r\nQ 44.96875 8.296875 48.78125 10.40625 \r\nL 48.78125 2.09375 \r\nQ 45.015625 0.34375 40.984375 -0.53125 \r\nQ 36.96875 -1.421875 32.421875 -1.421875 \r\nQ 20.0625 -1.421875 12.78125 6.34375 \r\nQ 5.515625 14.109375 5.515625 27.296875 \r\nQ 5.515625 40.671875 12.859375 48.328125 \r\nQ 20.21875 56 33.015625 56 \r\nQ 37.15625 56 41.109375 55.140625 \r\nQ 45.0625 54.296875 48.78125 52.59375 \r\nz\r\n\" id=\"DejaVuSans-99\"/>\r\n       <path d=\"M 45.40625 46.390625 \r\nL 45.40625 75.984375 \r\nL 54.390625 75.984375 \r\nL 54.390625 0 \r\nL 45.40625 0 \r\nL 45.40625 8.203125 \r\nQ 42.578125 3.328125 38.25 0.953125 \r\nQ 33.9375 -1.421875 27.875 -1.421875 \r\nQ 17.96875 -1.421875 11.734375 6.484375 \r\nQ 5.515625 14.40625 5.515625 27.296875 \r\nQ 5.515625 40.1875 11.734375 48.09375 \r\nQ 17.96875 56 27.875 56 \r\nQ 33.9375 56 38.25 53.625 \r\nQ 42.578125 51.265625 45.40625 46.390625 \r\nz\r\nM 14.796875 27.296875 \r\nQ 14.796875 17.390625 18.875 11.75 \r\nQ 22.953125 6.109375 30.078125 6.109375 \r\nQ 37.203125 6.109375 41.296875 11.75 \r\nQ 45.40625 17.390625 45.40625 27.296875 \r\nQ 45.40625 37.203125 41.296875 42.84375 \r\nQ 37.203125 48.484375 30.078125 48.484375 \r\nQ 22.953125 48.484375 18.875 42.84375 \r\nQ 14.796875 37.203125 14.796875 27.296875 \r\nz\r\n\" id=\"DejaVuSans-100\"/>\r\n       <path d=\"M 56.203125 29.59375 \r\nL 56.203125 25.203125 \r\nL 14.890625 25.203125 \r\nQ 15.484375 15.921875 20.484375 11.0625 \r\nQ 25.484375 6.203125 34.421875 6.203125 \r\nQ 39.59375 6.203125 44.453125 7.46875 \r\nQ 49.3125 8.734375 54.109375 11.28125 \r\nL 54.109375 2.78125 \r\nQ 49.265625 0.734375 44.1875 -0.34375 \r\nQ 39.109375 -1.421875 33.890625 -1.421875 \r\nQ 20.796875 -1.421875 13.15625 6.1875 \r\nQ 5.515625 13.8125 5.515625 26.8125 \r\nQ 5.515625 40.234375 12.765625 48.109375 \r\nQ 20.015625 56 32.328125 56 \r\nQ 43.359375 56 49.78125 48.890625 \r\nQ 56.203125 41.796875 56.203125 29.59375 \r\nz\r\nM 47.21875 32.234375 \r\nQ 47.125 39.59375 43.09375 43.984375 \r\nQ 39.0625 48.390625 32.421875 48.390625 \r\nQ 24.90625 48.390625 20.390625 44.140625 \r\nQ 15.875 39.890625 15.1875 32.171875 \r\nz\r\n\" id=\"DejaVuSans-101\"/>\r\n       <path d=\"M 34.28125 27.484375 \r\nQ 23.390625 27.484375 19.1875 25 \r\nQ 14.984375 22.515625 14.984375 16.5 \r\nQ 14.984375 11.71875 18.140625 8.90625 \r\nQ 21.296875 6.109375 26.703125 6.109375 \r\nQ 34.1875 6.109375 38.703125 11.40625 \r\nQ 43.21875 16.703125 43.21875 25.484375 \r\nL 43.21875 27.484375 \r\nz\r\nM 52.203125 31.203125 \r\nL 52.203125 0 \r\nL 43.21875 0 \r\nL 43.21875 8.296875 \r\nQ 40.140625 3.328125 35.546875 0.953125 \r\nQ 30.953125 -1.421875 24.3125 -1.421875 \r\nQ 15.921875 -1.421875 10.953125 3.296875 \r\nQ 6 8.015625 6 15.921875 \r\nQ 6 25.140625 12.171875 29.828125 \r\nQ 18.359375 34.515625 30.609375 34.515625 \r\nL 43.21875 34.515625 \r\nL 43.21875 35.40625 \r\nQ 43.21875 41.609375 39.140625 45 \r\nQ 35.0625 48.390625 27.6875 48.390625 \r\nQ 23 48.390625 18.546875 47.265625 \r\nQ 14.109375 46.140625 10.015625 43.890625 \r\nL 10.015625 52.203125 \r\nQ 14.9375 54.109375 19.578125 55.046875 \r\nQ 24.21875 56 28.609375 56 \r\nQ 40.484375 56 46.34375 49.84375 \r\nQ 52.203125 43.703125 52.203125 31.203125 \r\nz\r\n\" id=\"DejaVuSans-97\"/>\r\n       <path id=\"DejaVuSans-32\"/>\r\n       <path d=\"M 45.40625 27.984375 \r\nQ 45.40625 37.75 41.375 43.109375 \r\nQ 37.359375 48.484375 30.078125 48.484375 \r\nQ 22.859375 48.484375 18.828125 43.109375 \r\nQ 14.796875 37.75 14.796875 27.984375 \r\nQ 14.796875 18.265625 18.828125 12.890625 \r\nQ 22.859375 7.515625 30.078125 7.515625 \r\nQ 37.359375 7.515625 41.375 12.890625 \r\nQ 45.40625 18.265625 45.40625 27.984375 \r\nz\r\nM 54.390625 6.78125 \r\nQ 54.390625 -7.171875 48.1875 -13.984375 \r\nQ 42 -20.796875 29.203125 -20.796875 \r\nQ 24.46875 -20.796875 20.265625 -20.09375 \r\nQ 16.0625 -19.390625 12.109375 -17.921875 \r\nL 12.109375 -9.1875 \r\nQ 16.0625 -11.328125 19.921875 -12.34375 \r\nQ 23.78125 -13.375 27.78125 -13.375 \r\nQ 36.625 -13.375 41.015625 -8.765625 \r\nQ 45.40625 -4.15625 45.40625 5.171875 \r\nL 45.40625 9.625 \r\nQ 42.625 4.78125 38.28125 2.390625 \r\nQ 33.9375 0 27.875 0 \r\nQ 17.828125 0 11.671875 7.65625 \r\nQ 5.515625 15.328125 5.515625 27.984375 \r\nQ 5.515625 40.671875 11.671875 48.328125 \r\nQ 17.828125 56 27.875 56 \r\nQ 33.9375 56 38.28125 53.609375 \r\nQ 42.625 51.21875 45.40625 46.390625 \r\nL 45.40625 54.6875 \r\nL 54.390625 54.6875 \r\nz\r\n\" id=\"DejaVuSans-103\"/>\r\n       <path d=\"M 56.203125 29.59375 \r\nL 56.203125 25.203125 \r\nL 14.890625 25.203125 \r\nQ 15.484375 15.921875 20.484375 11.0625 \r\nQ 25.484375 6.203125 34.421875 6.203125 \r\nQ 39.59375 6.203125 44.453125 7.46875 \r\nQ 49.3125 8.734375 54.109375 11.28125 \r\nL 54.109375 2.78125 \r\nQ 49.265625 0.734375 44.1875 -0.34375 \r\nQ 39.109375 -1.421875 33.890625 -1.421875 \r\nQ 20.796875 -1.421875 13.15625 6.1875 \r\nQ 5.515625 13.8125 5.515625 26.8125 \r\nQ 5.515625 40.234375 12.765625 48.109375 \r\nQ 20.015625 56 32.328125 56 \r\nQ 43.359375 56 49.78125 48.890625 \r\nQ 56.203125 41.796875 56.203125 29.59375 \r\nz\r\nM 47.21875 32.234375 \r\nQ 47.125 39.59375 43.09375 43.984375 \r\nQ 39.0625 48.390625 32.421875 48.390625 \r\nQ 24.90625 48.390625 20.390625 44.140625 \r\nQ 15.875 39.890625 15.1875 32.171875 \r\nz\r\nM 38.578125 79.984375 \r\nL 48.296875 79.984375 \r\nL 32.375 61.625 \r\nL 24.90625 61.625 \r\nz\r\n\" id=\"DejaVuSans-233\"/>\r\n       <path d=\"M 41.109375 46.296875 \r\nQ 39.59375 47.171875 37.8125 47.578125 \r\nQ 36.03125 48 33.890625 48 \r\nQ 26.265625 48 22.1875 43.046875 \r\nQ 18.109375 38.09375 18.109375 28.8125 \r\nL 18.109375 0 \r\nL 9.078125 0 \r\nL 9.078125 54.6875 \r\nL 18.109375 54.6875 \r\nL 18.109375 46.1875 \r\nQ 20.953125 51.171875 25.484375 53.578125 \r\nQ 30.03125 56 36.53125 56 \r\nQ 37.453125 56 38.578125 55.875 \r\nQ 39.703125 55.765625 41.0625 55.515625 \r\nz\r\n\" id=\"DejaVuSans-114\"/>\r\n       <path d=\"M 44.28125 53.078125 \r\nL 44.28125 44.578125 \r\nQ 40.484375 46.53125 36.375 47.5 \r\nQ 32.28125 48.484375 27.875 48.484375 \r\nQ 21.1875 48.484375 17.84375 46.4375 \r\nQ 14.5 44.390625 14.5 40.28125 \r\nQ 14.5 37.15625 16.890625 35.375 \r\nQ 19.28125 33.59375 26.515625 31.984375 \r\nL 29.59375 31.296875 \r\nQ 39.15625 29.25 43.1875 25.515625 \r\nQ 47.21875 21.78125 47.21875 15.09375 \r\nQ 47.21875 7.46875 41.1875 3.015625 \r\nQ 35.15625 -1.421875 24.609375 -1.421875 \r\nQ 20.21875 -1.421875 15.453125 -0.5625 \r\nQ 10.6875 0.296875 5.421875 2 \r\nL 5.421875 11.28125 \r\nQ 10.40625 8.6875 15.234375 7.390625 \r\nQ 20.0625 6.109375 24.8125 6.109375 \r\nQ 31.15625 6.109375 34.5625 8.28125 \r\nQ 37.984375 10.453125 37.984375 14.40625 \r\nQ 37.984375 18.0625 35.515625 20.015625 \r\nQ 33.0625 21.96875 24.703125 23.78125 \r\nL 21.578125 24.515625 \r\nQ 13.234375 26.265625 9.515625 29.90625 \r\nQ 5.8125 33.546875 5.8125 39.890625 \r\nQ 5.8125 47.609375 11.28125 51.796875 \r\nQ 16.75 56 26.8125 56 \r\nQ 31.78125 56 36.171875 55.265625 \r\nQ 40.578125 54.546875 44.28125 53.078125 \r\nz\r\n\" id=\"DejaVuSans-115\"/>\r\n       <path d=\"M 8.5 21.578125 \r\nL 8.5 54.6875 \r\nL 17.484375 54.6875 \r\nL 17.484375 21.921875 \r\nQ 17.484375 14.15625 20.5 10.265625 \r\nQ 23.53125 6.390625 29.59375 6.390625 \r\nQ 36.859375 6.390625 41.078125 11.03125 \r\nQ 45.3125 15.671875 45.3125 23.6875 \r\nL 45.3125 54.6875 \r\nL 54.296875 54.6875 \r\nL 54.296875 0 \r\nL 45.3125 0 \r\nL 45.3125 8.40625 \r\nQ 42.046875 3.421875 37.71875 1 \r\nQ 33.40625 -1.421875 27.6875 -1.421875 \r\nQ 18.265625 -1.421875 13.375 4.4375 \r\nQ 8.5 10.296875 8.5 21.578125 \r\nz\r\nM 31.109375 56 \r\nz\r\n\" id=\"DejaVuSans-117\"/>\r\n       <path d=\"M 54.890625 33.015625 \r\nL 54.890625 0 \r\nL 45.90625 0 \r\nL 45.90625 32.71875 \r\nQ 45.90625 40.484375 42.875 44.328125 \r\nQ 39.84375 48.1875 33.796875 48.1875 \r\nQ 26.515625 48.1875 22.3125 43.546875 \r\nQ 18.109375 38.921875 18.109375 30.90625 \r\nL 18.109375 0 \r\nL 9.078125 0 \r\nL 9.078125 75.984375 \r\nL 18.109375 75.984375 \r\nL 18.109375 46.1875 \r\nQ 21.34375 51.125 25.703125 53.5625 \r\nQ 30.078125 56 35.796875 56 \r\nQ 45.21875 56 50.046875 50.171875 \r\nQ 54.890625 44.34375 54.890625 33.015625 \r\nz\r\n\" id=\"DejaVuSans-104\"/>\r\n       <path d=\"M 18.3125 70.21875 \r\nL 18.3125 54.6875 \r\nL 36.8125 54.6875 \r\nL 36.8125 47.703125 \r\nL 18.3125 47.703125 \r\nL 18.3125 18.015625 \r\nQ 18.3125 11.328125 20.140625 9.421875 \r\nQ 21.96875 7.515625 27.59375 7.515625 \r\nL 36.8125 7.515625 \r\nL 36.8125 0 \r\nL 27.59375 0 \r\nQ 17.1875 0 13.234375 3.875 \r\nQ 9.28125 7.765625 9.28125 18.015625 \r\nL 9.28125 47.703125 \r\nL 2.6875 47.703125 \r\nL 2.6875 54.6875 \r\nL 9.28125 54.6875 \r\nL 9.28125 70.21875 \r\nz\r\n\" id=\"DejaVuSans-116\"/>\r\n       <path d=\"M 37.109375 75.984375 \r\nL 37.109375 68.5 \r\nL 28.515625 68.5 \r\nQ 23.6875 68.5 21.796875 66.546875 \r\nQ 19.921875 64.59375 19.921875 59.515625 \r\nL 19.921875 54.6875 \r\nL 34.71875 54.6875 \r\nL 34.71875 47.703125 \r\nL 19.921875 47.703125 \r\nL 19.921875 0 \r\nL 10.890625 0 \r\nL 10.890625 47.703125 \r\nL 2.296875 47.703125 \r\nL 2.296875 54.6875 \r\nL 10.890625 54.6875 \r\nL 10.890625 58.5 \r\nQ 10.890625 67.625 15.140625 71.796875 \r\nQ 19.390625 75.984375 28.609375 75.984375 \r\nz\r\n\" id=\"DejaVuSans-102\"/>\r\n       <path d=\"M 2.984375 54.6875 \r\nL 12.5 54.6875 \r\nL 29.59375 8.796875 \r\nL 46.6875 54.6875 \r\nL 56.203125 54.6875 \r\nL 35.6875 0 \r\nL 23.484375 0 \r\nz\r\n\" id=\"DejaVuSans-118\"/>\r\n      </defs>\r\n      <use xlink:href=\"#DejaVuSans-67\"/>\r\n      <use x=\"69.824219\" xlink:href=\"#DejaVuSans-111\"/>\r\n      <use x=\"131.005859\" xlink:href=\"#DejaVuSans-105\"/>\r\n      <use x=\"158.789062\" xlink:href=\"#DejaVuSans-110\"/>\r\n      <use x=\"222.167969\" xlink:href=\"#DejaVuSans-99\"/>\r\n      <use x=\"277.148438\" xlink:href=\"#DejaVuSans-105\"/>\r\n      <use x=\"304.931641\" xlink:href=\"#DejaVuSans-100\"/>\r\n      <use x=\"368.408203\" xlink:href=\"#DejaVuSans-101\"/>\r\n      <use x=\"429.931641\" xlink:href=\"#DejaVuSans-110\"/>\r\n      <use x=\"493.310547\" xlink:href=\"#DejaVuSans-99\"/>\r\n      <use x=\"548.291016\" xlink:href=\"#DejaVuSans-105\"/>\r\n      <use x=\"576.074219\" xlink:href=\"#DejaVuSans-97\"/>\r\n      <use x=\"637.353516\" xlink:href=\"#DejaVuSans-32\"/>\r\n      <use x=\"669.140625\" xlink:href=\"#DejaVuSans-100\"/>\r\n      <use x=\"732.617188\" xlink:href=\"#DejaVuSans-101\"/>\r\n      <use x=\"794.140625\" xlink:href=\"#DejaVuSans-32\"/>\r\n      <use x=\"825.927734\" xlink:href=\"#DejaVuSans-103\"/>\r\n      <use x=\"889.404297\" xlink:href=\"#DejaVuSans-233\"/>\r\n      <use x=\"950.927734\" xlink:href=\"#DejaVuSans-110\"/>\r\n      <use x=\"1014.306641\" xlink:href=\"#DejaVuSans-101\"/>\r\n      <use x=\"1075.830078\" xlink:href=\"#DejaVuSans-114\"/>\r\n      <use x=\"1114.693359\" xlink:href=\"#DejaVuSans-111\"/>\r\n      <use x=\"1175.875\" xlink:href=\"#DejaVuSans-115\"/>\r\n      <use x=\"1227.974609\" xlink:href=\"#DejaVuSans-32\"/>\r\n      <use x=\"1259.761719\" xlink:href=\"#DejaVuSans-101\"/>\r\n      <use x=\"1321.285156\" xlink:href=\"#DejaVuSans-115\"/>\r\n      <use x=\"1373.384766\" xlink:href=\"#DejaVuSans-99\"/>\r\n      <use x=\"1428.365234\" xlink:href=\"#DejaVuSans-117\"/>\r\n      <use x=\"1491.744141\" xlink:href=\"#DejaVuSans-99\"/>\r\n      <use x=\"1546.724609\" xlink:href=\"#DejaVuSans-104\"/>\r\n      <use x=\"1610.103516\" xlink:href=\"#DejaVuSans-97\"/>\r\n      <use x=\"1671.382812\" xlink:href=\"#DejaVuSans-100\"/>\r\n      <use x=\"1734.859375\" xlink:href=\"#DejaVuSans-111\"/>\r\n      <use x=\"1796.041016\" xlink:href=\"#DejaVuSans-115\"/>\r\n      <use x=\"1848.140625\" xlink:href=\"#DejaVuSans-32\"/>\r\n      <use x=\"1879.927734\" xlink:href=\"#DejaVuSans-101\"/>\r\n      <use x=\"1941.451172\" xlink:href=\"#DejaVuSans-110\"/>\r\n      <use x=\"2004.830078\" xlink:href=\"#DejaVuSans-32\"/>\r\n      <use x=\"2036.617188\" xlink:href=\"#DejaVuSans-101\"/>\r\n      <use x=\"2098.140625\" xlink:href=\"#DejaVuSans-115\"/>\r\n      <use x=\"2150.240234\" xlink:href=\"#DejaVuSans-116\"/>\r\n      <use x=\"2189.449219\" xlink:href=\"#DejaVuSans-117\"/>\r\n      <use x=\"2252.828125\" xlink:href=\"#DejaVuSans-100\"/>\r\n      <use x=\"2316.304688\" xlink:href=\"#DejaVuSans-105\"/>\r\n      <use x=\"2344.087891\" xlink:href=\"#DejaVuSans-111\"/>\r\n      <use x=\"2405.269531\" xlink:href=\"#DejaVuSans-32\"/>\r\n      <use x=\"2437.056641\" xlink:href=\"#DejaVuSans-99\"/>\r\n      <use x=\"2492.037109\" xlink:href=\"#DejaVuSans-111\"/>\r\n      <use x=\"2553.21875\" xlink:href=\"#DejaVuSans-110\"/>\r\n      <use x=\"2616.597656\" xlink:href=\"#DejaVuSans-32\"/>\r\n      <use x=\"2648.384766\" xlink:href=\"#DejaVuSans-102\"/>\r\n      <use x=\"2683.589844\" xlink:href=\"#DejaVuSans-97\"/>\r\n      <use x=\"2744.869141\" xlink:href=\"#DejaVuSans-118\"/>\r\n      <use x=\"2804.048828\" xlink:href=\"#DejaVuSans-111\"/>\r\n      <use x=\"2865.230469\" xlink:href=\"#DejaVuSans-114\"/>\r\n      <use x=\"2906.34375\" xlink:href=\"#DejaVuSans-105\"/>\r\n      <use x=\"2934.126953\" xlink:href=\"#DejaVuSans-116\"/>\r\n      <use x=\"2973.335938\" xlink:href=\"#DejaVuSans-111\"/>\r\n      <use x=\"3034.517578\" xlink:href=\"#DejaVuSans-115\"/>\r\n     </g>\r\n    </g>\r\n   </g>\r\n   <g id=\"matplotlib.axis_2\">\r\n    <g id=\"ytick_1\">\r\n     <g id=\"line2d_7\">\r\n      <defs>\r\n       <path d=\"M 0 0 \r\nL -3.5 0 \r\n\" id=\"mc990e99560\" style=\"stroke:#000000;stroke-width:0.8;\"/>\r\n      </defs>\r\n      <g>\r\n       <use style=\"stroke:#000000;stroke-width:0.8;\" x=\"43.78125\" xlink:href=\"#mc990e99560\" y=\"229.874489\"/>\r\n      </g>\r\n     </g>\r\n     <g id=\"text_8\">\r\n      <!-- 0.0 -->\r\n      <g transform=\"translate(20.878125 233.673707)scale(0.1 -0.1)\">\r\n       <use xlink:href=\"#DejaVuSans-48\"/>\r\n       <use x=\"63.623047\" xlink:href=\"#DejaVuSans-46\"/>\r\n       <use x=\"95.410156\" xlink:href=\"#DejaVuSans-48\"/>\r\n      </g>\r\n     </g>\r\n    </g>\r\n    <g id=\"ytick_2\">\r\n     <g id=\"line2d_8\">\r\n      <g>\r\n       <use style=\"stroke:#000000;stroke-width:0.8;\" x=\"43.78125\" xlink:href=\"#mc990e99560\" y=\"190.339943\"/>\r\n      </g>\r\n     </g>\r\n     <g id=\"text_9\">\r\n      <!-- 0.2 -->\r\n      <g transform=\"translate(20.878125 194.139162)scale(0.1 -0.1)\">\r\n       <use xlink:href=\"#DejaVuSans-48\"/>\r\n       <use x=\"63.623047\" xlink:href=\"#DejaVuSans-46\"/>\r\n       <use x=\"95.410156\" xlink:href=\"#DejaVuSans-50\"/>\r\n      </g>\r\n     </g>\r\n    </g>\r\n    <g id=\"ytick_3\">\r\n     <g id=\"line2d_9\">\r\n      <g>\r\n       <use style=\"stroke:#000000;stroke-width:0.8;\" x=\"43.78125\" xlink:href=\"#mc990e99560\" y=\"150.805398\"/>\r\n      </g>\r\n     </g>\r\n     <g id=\"text_10\">\r\n      <!-- 0.4 -->\r\n      <g transform=\"translate(20.878125 154.604616)scale(0.1 -0.1)\">\r\n       <use xlink:href=\"#DejaVuSans-48\"/>\r\n       <use x=\"63.623047\" xlink:href=\"#DejaVuSans-46\"/>\r\n       <use x=\"95.410156\" xlink:href=\"#DejaVuSans-52\"/>\r\n      </g>\r\n     </g>\r\n    </g>\r\n    <g id=\"ytick_4\">\r\n     <g id=\"line2d_10\">\r\n      <g>\r\n       <use style=\"stroke:#000000;stroke-width:0.8;\" x=\"43.78125\" xlink:href=\"#mc990e99560\" y=\"111.270852\"/>\r\n      </g>\r\n     </g>\r\n     <g id=\"text_11\">\r\n      <!-- 0.6 -->\r\n      <g transform=\"translate(20.878125 115.070071)scale(0.1 -0.1)\">\r\n       <use xlink:href=\"#DejaVuSans-48\"/>\r\n       <use x=\"63.623047\" xlink:href=\"#DejaVuSans-46\"/>\r\n       <use x=\"95.410156\" xlink:href=\"#DejaVuSans-54\"/>\r\n      </g>\r\n     </g>\r\n    </g>\r\n    <g id=\"ytick_5\">\r\n     <g id=\"line2d_11\">\r\n      <g>\r\n       <use style=\"stroke:#000000;stroke-width:0.8;\" x=\"43.78125\" xlink:href=\"#mc990e99560\" y=\"71.736307\"/>\r\n      </g>\r\n     </g>\r\n     <g id=\"text_12\">\r\n      <!-- 0.8 -->\r\n      <g transform=\"translate(20.878125 75.535526)scale(0.1 -0.1)\">\r\n       <use xlink:href=\"#DejaVuSans-48\"/>\r\n       <use x=\"63.623047\" xlink:href=\"#DejaVuSans-46\"/>\r\n       <use x=\"95.410156\" xlink:href=\"#DejaVuSans-56\"/>\r\n      </g>\r\n     </g>\r\n    </g>\r\n    <g id=\"ytick_6\">\r\n     <g id=\"line2d_12\">\r\n      <g>\r\n       <use style=\"stroke:#000000;stroke-width:0.8;\" x=\"43.78125\" xlink:href=\"#mc990e99560\" y=\"32.201761\"/>\r\n      </g>\r\n     </g>\r\n     <g id=\"text_13\">\r\n      <!-- 1.0 -->\r\n      <g transform=\"translate(20.878125 36.00098)scale(0.1 -0.1)\">\r\n       <use xlink:href=\"#DejaVuSans-49\"/>\r\n       <use x=\"63.623047\" xlink:href=\"#DejaVuSans-46\"/>\r\n       <use x=\"95.410156\" xlink:href=\"#DejaVuSans-48\"/>\r\n      </g>\r\n     </g>\r\n    </g>\r\n    <g id=\"text_14\">\r\n     <!-- Capacidad de concentrarse -->\r\n     <g transform=\"translate(14.798438 199.599844)rotate(-90)scale(0.1 -0.1)\">\r\n      <defs>\r\n       <path d=\"M 18.109375 8.203125 \r\nL 18.109375 -20.796875 \r\nL 9.078125 -20.796875 \r\nL 9.078125 54.6875 \r\nL 18.109375 54.6875 \r\nL 18.109375 46.390625 \r\nQ 20.953125 51.265625 25.265625 53.625 \r\nQ 29.59375 56 35.59375 56 \r\nQ 45.5625 56 51.78125 48.09375 \r\nQ 58.015625 40.1875 58.015625 27.296875 \r\nQ 58.015625 14.40625 51.78125 6.484375 \r\nQ 45.5625 -1.421875 35.59375 -1.421875 \r\nQ 29.59375 -1.421875 25.265625 0.953125 \r\nQ 20.953125 3.328125 18.109375 8.203125 \r\nz\r\nM 48.6875 27.296875 \r\nQ 48.6875 37.203125 44.609375 42.84375 \r\nQ 40.53125 48.484375 33.40625 48.484375 \r\nQ 26.265625 48.484375 22.1875 42.84375 \r\nQ 18.109375 37.203125 18.109375 27.296875 \r\nQ 18.109375 17.390625 22.1875 11.75 \r\nQ 26.265625 6.109375 33.40625 6.109375 \r\nQ 40.53125 6.109375 44.609375 11.75 \r\nQ 48.6875 17.390625 48.6875 27.296875 \r\nz\r\n\" id=\"DejaVuSans-112\"/>\r\n      </defs>\r\n      <use xlink:href=\"#DejaVuSans-67\"/>\r\n      <use x=\"69.824219\" xlink:href=\"#DejaVuSans-97\"/>\r\n      <use x=\"131.103516\" xlink:href=\"#DejaVuSans-112\"/>\r\n      <use x=\"194.580078\" xlink:href=\"#DejaVuSans-97\"/>\r\n      <use x=\"255.859375\" xlink:href=\"#DejaVuSans-99\"/>\r\n      <use x=\"310.839844\" xlink:href=\"#DejaVuSans-105\"/>\r\n      <use x=\"338.623047\" xlink:href=\"#DejaVuSans-100\"/>\r\n      <use x=\"402.099609\" xlink:href=\"#DejaVuSans-97\"/>\r\n      <use x=\"463.378906\" xlink:href=\"#DejaVuSans-100\"/>\r\n      <use x=\"526.855469\" xlink:href=\"#DejaVuSans-32\"/>\r\n      <use x=\"558.642578\" xlink:href=\"#DejaVuSans-100\"/>\r\n      <use x=\"622.119141\" xlink:href=\"#DejaVuSans-101\"/>\r\n      <use x=\"683.642578\" xlink:href=\"#DejaVuSans-32\"/>\r\n      <use x=\"715.429688\" xlink:href=\"#DejaVuSans-99\"/>\r\n      <use x=\"770.410156\" xlink:href=\"#DejaVuSans-111\"/>\r\n      <use x=\"831.591797\" xlink:href=\"#DejaVuSans-110\"/>\r\n      <use x=\"894.970703\" xlink:href=\"#DejaVuSans-99\"/>\r\n      <use x=\"949.951172\" xlink:href=\"#DejaVuSans-101\"/>\r\n      <use x=\"1011.474609\" xlink:href=\"#DejaVuSans-110\"/>\r\n      <use x=\"1074.853516\" xlink:href=\"#DejaVuSans-116\"/>\r\n      <use x=\"1114.0625\" xlink:href=\"#DejaVuSans-114\"/>\r\n      <use x=\"1155.175781\" xlink:href=\"#DejaVuSans-97\"/>\r\n      <use x=\"1216.455078\" xlink:href=\"#DejaVuSans-114\"/>\r\n      <use x=\"1257.568359\" xlink:href=\"#DejaVuSans-115\"/>\r\n      <use x=\"1309.667969\" xlink:href=\"#DejaVuSans-101\"/>\r\n     </g>\r\n    </g>\r\n   </g>\r\n   <g id=\"line2d_13\">\r\n    <path clip-path=\"url(#p96c44d2620)\" d=\"M 58.999432 130.907458 \r\nL 89.435795 127.679988 \r\nL 119.872159 124.452519 \r\nL 150.308523 121.225049 \r\nL 180.744886 117.997579 \r\nL 211.18125 114.770109 \r\nL 241.617614 111.542639 \r\nL 272.053977 108.315169 \r\nL 302.490341 105.0877 \r\nL 332.926705 101.86023 \r\n\" style=\"fill:none;stroke:#0000ff;stroke-linecap:square;stroke-width:1.5;\"/>\r\n   </g>\r\n   <g id=\"patch_3\">\r\n    <path d=\"M 43.78125 239.758125 \r\nL 43.78125 22.318125 \r\n\" style=\"fill:none;stroke:#000000;stroke-linecap:square;stroke-linejoin:miter;stroke-width:0.8;\"/>\r\n   </g>\r\n   <g id=\"patch_4\">\r\n    <path d=\"M 378.58125 239.758125 \r\nL 378.58125 22.318125 \r\n\" style=\"fill:none;stroke:#000000;stroke-linecap:square;stroke-linejoin:miter;stroke-width:0.8;\"/>\r\n   </g>\r\n   <g id=\"patch_5\">\r\n    <path d=\"M 43.78125 239.758125 \r\nL 378.58125 239.758125 \r\n\" style=\"fill:none;stroke:#000000;stroke-linecap:square;stroke-linejoin:miter;stroke-width:0.8;\"/>\r\n   </g>\r\n   <g id=\"patch_6\">\r\n    <path d=\"M 43.78125 22.318125 \r\nL 378.58125 22.318125 \r\n\" style=\"fill:none;stroke:#000000;stroke-linecap:square;stroke-linejoin:miter;stroke-width:0.8;\"/>\r\n   </g>\r\n   <g id=\"text_15\">\r\n    <!-- Concentración vs Relación Géneros Favoritos-Estudiar -->\r\n    <g transform=\"translate(49.205625 16.318125)scale(0.12 -0.12)\">\r\n     <defs>\r\n      <path d=\"M 30.609375 48.390625 \r\nQ 23.390625 48.390625 19.1875 42.75 \r\nQ 14.984375 37.109375 14.984375 27.296875 \r\nQ 14.984375 17.484375 19.15625 11.84375 \r\nQ 23.34375 6.203125 30.609375 6.203125 \r\nQ 37.796875 6.203125 41.984375 11.859375 \r\nQ 46.1875 17.53125 46.1875 27.296875 \r\nQ 46.1875 37.015625 41.984375 42.703125 \r\nQ 37.796875 48.390625 30.609375 48.390625 \r\nz\r\nM 30.609375 56 \r\nQ 42.328125 56 49.015625 48.375 \r\nQ 55.71875 40.765625 55.71875 27.296875 \r\nQ 55.71875 13.875 49.015625 6.21875 \r\nQ 42.328125 -1.421875 30.609375 -1.421875 \r\nQ 18.84375 -1.421875 12.171875 6.21875 \r\nQ 5.515625 13.875 5.515625 27.296875 \r\nQ 5.515625 40.765625 12.171875 48.375 \r\nQ 18.84375 56 30.609375 56 \r\nz\r\nM 37.40625 79.984375 \r\nL 47.125 79.984375 \r\nL 31.203125 61.625 \r\nL 23.734375 61.625 \r\nz\r\n\" id=\"DejaVuSans-243\"/>\r\n      <path d=\"M 44.390625 34.1875 \r\nQ 47.5625 33.109375 50.5625 29.59375 \r\nQ 53.5625 26.078125 56.59375 19.921875 \r\nL 66.609375 0 \r\nL 56 0 \r\nL 46.6875 18.703125 \r\nQ 43.0625 26.03125 39.671875 28.421875 \r\nQ 36.28125 30.8125 30.421875 30.8125 \r\nL 19.671875 30.8125 \r\nL 19.671875 0 \r\nL 9.8125 0 \r\nL 9.8125 72.90625 \r\nL 32.078125 72.90625 \r\nQ 44.578125 72.90625 50.734375 67.671875 \r\nQ 56.890625 62.453125 56.890625 51.90625 \r\nQ 56.890625 45.015625 53.6875 40.46875 \r\nQ 50.484375 35.9375 44.390625 34.1875 \r\nz\r\nM 19.671875 64.796875 \r\nL 19.671875 38.921875 \r\nL 32.078125 38.921875 \r\nQ 39.203125 38.921875 42.84375 42.21875 \r\nQ 46.484375 45.515625 46.484375 51.90625 \r\nQ 46.484375 58.296875 42.84375 61.546875 \r\nQ 39.203125 64.796875 32.078125 64.796875 \r\nz\r\n\" id=\"DejaVuSans-82\"/>\r\n      <path d=\"M 9.421875 75.984375 \r\nL 18.40625 75.984375 \r\nL 18.40625 0 \r\nL 9.421875 0 \r\nz\r\n\" id=\"DejaVuSans-108\"/>\r\n      <path d=\"M 59.515625 10.40625 \r\nL 59.515625 29.984375 \r\nL 43.40625 29.984375 \r\nL 43.40625 38.09375 \r\nL 69.28125 38.09375 \r\nL 69.28125 6.78125 \r\nQ 63.578125 2.734375 56.6875 0.65625 \r\nQ 49.8125 -1.421875 42 -1.421875 \r\nQ 24.90625 -1.421875 15.25 8.5625 \r\nQ 5.609375 18.5625 5.609375 36.375 \r\nQ 5.609375 54.25 15.25 64.234375 \r\nQ 24.90625 74.21875 42 74.21875 \r\nQ 49.125 74.21875 55.546875 72.453125 \r\nQ 61.96875 70.703125 67.390625 67.28125 \r\nL 67.390625 56.78125 \r\nQ 61.921875 61.421875 55.765625 63.765625 \r\nQ 49.609375 66.109375 42.828125 66.109375 \r\nQ 29.4375 66.109375 22.71875 58.640625 \r\nQ 16.015625 51.171875 16.015625 36.375 \r\nQ 16.015625 21.625 22.71875 14.15625 \r\nQ 29.4375 6.6875 42.828125 6.6875 \r\nQ 48.046875 6.6875 52.140625 7.59375 \r\nQ 56.25 8.5 59.515625 10.40625 \r\nz\r\n\" id=\"DejaVuSans-71\"/>\r\n      <path d=\"M 9.8125 72.90625 \r\nL 51.703125 72.90625 \r\nL 51.703125 64.59375 \r\nL 19.671875 64.59375 \r\nL 19.671875 43.109375 \r\nL 48.578125 43.109375 \r\nL 48.578125 34.8125 \r\nL 19.671875 34.8125 \r\nL 19.671875 0 \r\nL 9.8125 0 \r\nz\r\n\" id=\"DejaVuSans-70\"/>\r\n      <path d=\"M 4.890625 31.390625 \r\nL 31.203125 31.390625 \r\nL 31.203125 23.390625 \r\nL 4.890625 23.390625 \r\nz\r\n\" id=\"DejaVuSans-45\"/>\r\n      <path d=\"M 9.8125 72.90625 \r\nL 55.90625 72.90625 \r\nL 55.90625 64.59375 \r\nL 19.671875 64.59375 \r\nL 19.671875 43.015625 \r\nL 54.390625 43.015625 \r\nL 54.390625 34.71875 \r\nL 19.671875 34.71875 \r\nL 19.671875 8.296875 \r\nL 56.78125 8.296875 \r\nL 56.78125 0 \r\nL 9.8125 0 \r\nz\r\n\" id=\"DejaVuSans-69\"/>\r\n     </defs>\r\n     <use xlink:href=\"#DejaVuSans-67\"/>\r\n     <use x=\"69.824219\" xlink:href=\"#DejaVuSans-111\"/>\r\n     <use x=\"131.005859\" xlink:href=\"#DejaVuSans-110\"/>\r\n     <use x=\"194.384766\" xlink:href=\"#DejaVuSans-99\"/>\r\n     <use x=\"249.365234\" xlink:href=\"#DejaVuSans-101\"/>\r\n     <use x=\"310.888672\" xlink:href=\"#DejaVuSans-110\"/>\r\n     <use x=\"374.267578\" xlink:href=\"#DejaVuSans-116\"/>\r\n     <use x=\"413.476562\" xlink:href=\"#DejaVuSans-114\"/>\r\n     <use x=\"454.589844\" xlink:href=\"#DejaVuSans-97\"/>\r\n     <use x=\"515.869141\" xlink:href=\"#DejaVuSans-99\"/>\r\n     <use x=\"570.849609\" xlink:href=\"#DejaVuSans-105\"/>\r\n     <use x=\"598.632812\" xlink:href=\"#DejaVuSans-243\"/>\r\n     <use x=\"659.814453\" xlink:href=\"#DejaVuSans-110\"/>\r\n     <use x=\"723.193359\" xlink:href=\"#DejaVuSans-32\"/>\r\n     <use x=\"754.980469\" xlink:href=\"#DejaVuSans-118\"/>\r\n     <use x=\"814.160156\" xlink:href=\"#DejaVuSans-115\"/>\r\n     <use x=\"866.259766\" xlink:href=\"#DejaVuSans-32\"/>\r\n     <use x=\"898.046875\" xlink:href=\"#DejaVuSans-82\"/>\r\n     <use x=\"963.029297\" xlink:href=\"#DejaVuSans-101\"/>\r\n     <use x=\"1024.552734\" xlink:href=\"#DejaVuSans-108\"/>\r\n     <use x=\"1052.335938\" xlink:href=\"#DejaVuSans-97\"/>\r\n     <use x=\"1113.615234\" xlink:href=\"#DejaVuSans-99\"/>\r\n     <use x=\"1168.595703\" xlink:href=\"#DejaVuSans-105\"/>\r\n     <use x=\"1196.378906\" xlink:href=\"#DejaVuSans-243\"/>\r\n     <use x=\"1257.560547\" xlink:href=\"#DejaVuSans-110\"/>\r\n     <use x=\"1320.939453\" xlink:href=\"#DejaVuSans-32\"/>\r\n     <use x=\"1352.726562\" xlink:href=\"#DejaVuSans-71\"/>\r\n     <use x=\"1430.216797\" xlink:href=\"#DejaVuSans-233\"/>\r\n     <use x=\"1491.740234\" xlink:href=\"#DejaVuSans-110\"/>\r\n     <use x=\"1555.119141\" xlink:href=\"#DejaVuSans-101\"/>\r\n     <use x=\"1616.642578\" xlink:href=\"#DejaVuSans-114\"/>\r\n     <use x=\"1655.505859\" xlink:href=\"#DejaVuSans-111\"/>\r\n     <use x=\"1716.6875\" xlink:href=\"#DejaVuSans-115\"/>\r\n     <use x=\"1768.787109\" xlink:href=\"#DejaVuSans-32\"/>\r\n     <use x=\"1800.574219\" xlink:href=\"#DejaVuSans-70\"/>\r\n     <use x=\"1848.96875\" xlink:href=\"#DejaVuSans-97\"/>\r\n     <use x=\"1910.248047\" xlink:href=\"#DejaVuSans-118\"/>\r\n     <use x=\"1969.427734\" xlink:href=\"#DejaVuSans-111\"/>\r\n     <use x=\"2030.609375\" xlink:href=\"#DejaVuSans-114\"/>\r\n     <use x=\"2071.722656\" xlink:href=\"#DejaVuSans-105\"/>\r\n     <use x=\"2099.505859\" xlink:href=\"#DejaVuSans-116\"/>\r\n     <use x=\"2138.714844\" xlink:href=\"#DejaVuSans-111\"/>\r\n     <use x=\"2199.896484\" xlink:href=\"#DejaVuSans-115\"/>\r\n     <use x=\"2251.996094\" xlink:href=\"#DejaVuSans-45\"/>\r\n     <use x=\"2288.080078\" xlink:href=\"#DejaVuSans-69\"/>\r\n     <use x=\"2351.263672\" xlink:href=\"#DejaVuSans-115\"/>\r\n     <use x=\"2403.363281\" xlink:href=\"#DejaVuSans-116\"/>\r\n     <use x=\"2442.572266\" xlink:href=\"#DejaVuSans-117\"/>\r\n     <use x=\"2505.951172\" xlink:href=\"#DejaVuSans-100\"/>\r\n     <use x=\"2569.427734\" xlink:href=\"#DejaVuSans-105\"/>\r\n     <use x=\"2597.210938\" xlink:href=\"#DejaVuSans-97\"/>\r\n     <use x=\"2658.490234\" xlink:href=\"#DejaVuSans-114\"/>\r\n    </g>\r\n   </g>\r\n   <g id=\"legend_1\">\r\n    <g id=\"patch_7\">\r\n     <path d=\"M 290.098438 60.074375 \r\nL 371.58125 60.074375 \r\nQ 373.58125 60.074375 373.58125 58.074375 \r\nL 373.58125 29.318125 \r\nQ 373.58125 27.318125 371.58125 27.318125 \r\nL 290.098438 27.318125 \r\nQ 288.098438 27.318125 288.098438 29.318125 \r\nL 288.098438 58.074375 \r\nQ 288.098438 60.074375 290.098438 60.074375 \r\nz\r\n\" style=\"fill:#ffffff;opacity:0.8;stroke:#cccccc;stroke-linejoin:miter;\"/>\r\n    </g>\r\n    <g id=\"line2d_14\">\r\n     <path d=\"M 292.098438 35.816563 \r\nL 312.098438 35.816563 \r\n\" style=\"fill:none;stroke:#0000ff;stroke-linecap:square;stroke-width:1.5;\"/>\r\n    </g>\r\n    <g id=\"line2d_15\"/>\r\n    <g id=\"text_16\">\r\n     <!-- Regresión -->\r\n     <g transform=\"translate(320.098438 39.316563)scale(0.1 -0.1)\">\r\n      <use xlink:href=\"#DejaVuSans-82\"/>\r\n      <use x=\"64.982422\" xlink:href=\"#DejaVuSans-101\"/>\r\n      <use x=\"126.505859\" xlink:href=\"#DejaVuSans-103\"/>\r\n      <use x=\"189.982422\" xlink:href=\"#DejaVuSans-114\"/>\r\n      <use x=\"228.845703\" xlink:href=\"#DejaVuSans-101\"/>\r\n      <use x=\"290.369141\" xlink:href=\"#DejaVuSans-115\"/>\r\n      <use x=\"342.46875\" xlink:href=\"#DejaVuSans-105\"/>\r\n      <use x=\"370.251953\" xlink:href=\"#DejaVuSans-243\"/>\r\n      <use x=\"431.433594\" xlink:href=\"#DejaVuSans-110\"/>\r\n     </g>\r\n    </g>\r\n    <g id=\"PathCollection_2\">\r\n     <g>\r\n      <use style=\"fill:#ff0000;stroke:#ff0000;\" x=\"302.098438\" xlink:href=\"#mb6124d7561\" y=\"51.369687\"/>\r\n     </g>\r\n    </g>\r\n    <g id=\"text_17\">\r\n     <!-- Datos -->\r\n     <g transform=\"translate(320.098438 53.994687)scale(0.1 -0.1)\">\r\n      <defs>\r\n       <path d=\"M 19.671875 64.796875 \r\nL 19.671875 8.109375 \r\nL 31.59375 8.109375 \r\nQ 46.6875 8.109375 53.6875 14.9375 \r\nQ 60.6875 21.78125 60.6875 36.53125 \r\nQ 60.6875 51.171875 53.6875 57.984375 \r\nQ 46.6875 64.796875 31.59375 64.796875 \r\nz\r\nM 9.8125 72.90625 \r\nL 30.078125 72.90625 \r\nQ 51.265625 72.90625 61.171875 64.09375 \r\nQ 71.09375 55.28125 71.09375 36.53125 \r\nQ 71.09375 17.671875 61.125 8.828125 \r\nQ 51.171875 0 30.078125 0 \r\nL 9.8125 0 \r\nz\r\n\" id=\"DejaVuSans-68\"/>\r\n      </defs>\r\n      <use xlink:href=\"#DejaVuSans-68\"/>\r\n      <use x=\"77.001953\" xlink:href=\"#DejaVuSans-97\"/>\r\n      <use x=\"138.28125\" xlink:href=\"#DejaVuSans-116\"/>\r\n      <use x=\"177.490234\" xlink:href=\"#DejaVuSans-111\"/>\r\n      <use x=\"238.671875\" xlink:href=\"#DejaVuSans-115\"/>\r\n     </g>\r\n    </g>\r\n   </g>\r\n  </g>\r\n </g>\r\n <defs>\r\n  <clipPath id=\"p96c44d2620\">\r\n   <rect height=\"217.44\" width=\"334.8\" x=\"43.78125\" y=\"22.318125\"/>\r\n  </clipPath>\r\n </defs>\r\n</svg>\r\n",
      "image/png": "[encoded data removed]"
     },
     "metadata": {
      "needs_background": "light"
     }
    }
   ],
   "source": [
    "plt.scatter(puntajes, concentrar, label = 'Datos', color = 'r')\n",
    "plt.plot(a, b, label = 'Regresión', color = 'b')\n",
    "plt.legend(loc = 'upper right')\n",
    "plt.xlabel('Coincidencia de géneros escuchados en estudio con favoritos')\n",
    "plt.ylabel('Capacidad de concentrarse')\n",
    "plt.title('Concentración vs Relación Géneros Favoritos-Estudiar')"
   ]
  }
 ],
 "metadata": {
  "kernelspec": {
   "name": "python376jvsc74a57bd00613f9aabd2d046f4fbf75f117fc5348cb6021417cde57c69b5a86554e8e34ae",
   "display_name": "Python 3.7.6 64-bit ('base': conda)"
  },
  "language_info": {
   "codemirror_mode": {
    "name": "ipython",
    "version": 3
   },
   "file_extension": ".py",
   "mimetype": "text/x-python",
   "name": "python",
   "nbconvert_exporter": "python",
   "pygments_lexer": "ipython3",
   "version": "3.7.6"
  }
 },
 "nbformat": 4,
 "nbformat_minor": 2
}