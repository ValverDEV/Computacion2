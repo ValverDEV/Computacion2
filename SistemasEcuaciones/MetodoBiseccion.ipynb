{
 "metadata": {
  "language_info": {
   "codemirror_mode": {
    "name": "ipython",
    "version": 3
   },
   "file_extension": ".py",
   "mimetype": "text/x-python",
   "name": "python",
   "nbconvert_exporter": "python",
   "pygments_lexer": "ipython3",
   "version": "3.7.6-final"
  },
  "orig_nbformat": 2,
  "kernelspec": {
   "name": "python3",
   "display_name": "Python 3.7.6 64-bit (conda)",
   "metadata": {
    "interpreter": {
     "hash": "0613f9aabd2d046f4fbf75f117fc5348cb6021417cde57c69b5a86554e8e34ae"
    }
   }
  }
 },
 "nbformat": 4,
 "nbformat_minor": 2,
 "cells": [
  {
   "cell_type": "code",
   "execution_count": 3,
   "metadata": {},
   "outputs": [],
   "source": [
    "import numpy as np \n",
    "from sympy import *"
   ]
  },
  {
   "cell_type": "code",
   "execution_count": 15,
   "metadata": {},
   "outputs": [],
   "source": [
    "class Biseccion:\n",
    "\n",
    "    def Biseccion(self, bot, sup, expr, maxIter = 1000):\n",
    "        \"\"\"\n",
    "        Implementacion del metodo de biseccion para calcular\n",
    "        raíces de función.\n",
    "        Recibe limite inferior y superior, y la expresión.\n",
    "        Opcionalmente recibe el número máximo de iteraciones.\n",
    "        \"\"\"\n",
    "        print(expr)\n",
    "        print(expr.subs(x, bot)*expr.subs(x, sup))\n",
    "        if expr.subs(x, bot)*expr.subs(x, sup) > 0:\n",
    "            print('el intervalo ingresado no permite encontrar una solucion')\n",
    "            return\n",
    "\n",
    "        for i in range(maxIter):\n",
    "            x_r = (bot + sup)/2\n",
    "            f_x_i = expr.subs(x, bot)\n",
    "            f_x_r = expr.subs(x, x_r)\n",
    "            if round(f_x_i * f_x_r, 3) == 0:\n",
    "                print(f'{x_r} es una raíz')\n",
    "                return x_r\n",
    "            elif f_x_i * f_x_r > 0:\n",
    "                bot = x_r\n",
    "            else:\n",
    "                sup = x_r\n",
    "        \n",
    "        print('límite de iteraciones alcanzado')        \n",
    "        print(f'se estimó la siguiente raíz: {x_r}')\n",
    "        return x_r\n"
   ]
  },
  {
   "cell_type": "code",
   "execution_count": 19,
   "metadata": {},
   "outputs": [
    {
     "output_type": "execute_result",
     "data": {
      "text/plain": [
       "sin(x)"
      ],
      "text/latex": "$\\displaystyle \\sin{\\left(x \\right)}$"
     },
     "metadata": {},
     "execution_count": 19
    }
   ],
   "source": [
    "x = symbols('x')\n",
    "expr = x**2 - 10\n",
    "expr"
   ]
  },
  {
   "cell_type": "code",
   "execution_count": 21,
   "metadata": {},
   "outputs": [
    {
     "output_type": "stream",
     "name": "stdout",
     "text": [
      "sin(x)\nsin(1)*sin(10)\n3.14453125 es una raíz\n"
     ]
    },
    {
     "output_type": "execute_result",
     "data": {
      "text/plain": [
       "3.14453125"
      ]
     },
     "metadata": {},
     "execution_count": 21
    }
   ],
   "source": [
    "Biseccion().Biseccion(1, 10, expr)"
   ]
  },
  {
   "cell_type": "code",
   "execution_count": null,
   "metadata": {},
   "outputs": [],
   "source": []
  }
 ]
}