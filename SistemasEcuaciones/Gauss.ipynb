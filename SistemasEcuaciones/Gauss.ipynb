{
 "metadata": {
  "language_info": {
   "codemirror_mode": {
    "name": "ipython",
    "version": 3
   },
   "file_extension": ".py",
   "mimetype": "text/x-python",
   "name": "python",
   "nbconvert_exporter": "python",
   "pygments_lexer": "ipython3",
   "version": "3.7.6"
  },
  "orig_nbformat": 2,
  "kernelspec": {
   "name": "python3",
   "display_name": "Python 3",
   "language": "python"
  }
 },
 "nbformat": 4,
 "nbformat_minor": 2,
 "cells": [
  {
   "cell_type": "code",
   "execution_count": 1,
   "metadata": {},
   "outputs": [],
   "source": [
    "import numpy as np\n",
    "from sympy import *\n",
    "from random import randint"
   ]
  },
  {
   "cell_type": "code",
   "execution_count": 50,
   "metadata": {},
   "outputs": [],
   "source": [
    "class Gauss:\n",
    "\n",
    "    def cambiarFilas(self, matriz, fila):\n",
    "        cambio = 0\n",
    "        for i in range(1, len(matriz) - fila):\n",
    "            if matriz[fila + i][fila] != 0:\n",
    "                cambio = i\n",
    "                break\n",
    "        \n",
    "        if not cambio:\n",
    "            return False\n",
    "            \n",
    "        fila1 = fila\n",
    "        fila2 = fila + cambio\n",
    "\n",
    "        temp = matriz[fila1].copy()\n",
    "        matriz[fila1] = matriz[fila2]\n",
    "        matriz[fila2] = temp\n",
    "        return matriz\n",
    "\n",
    "    def sumarFilas(self, matriz, fila):\n",
    "        for i in range(1, len(matriz) -  fila):\n",
    "            reduccion = matriz[fila][fila].copy()\n",
    "            multiplo = -1*matriz[fila+i][fila].copy()\n",
    "            matriz[fila + i] = matriz[fila+i] + matriz[fila] * multiplo / reduccion\n",
    "        return matriz\n",
    "\n",
    "    def checarCeros(self, matriz, fila):\n",
    "        if matriz[fila][fila] == 0:\n",
    "            return True\n",
    "        return False\n",
    "\n",
    "    def transformar(self, matriz):\n",
    "        copia = matriz.copy()\n",
    "        finalInv = matriz.copy()\n",
    "        for i in range(0,len(matriz)):\n",
    "            for j in range(0,len(matriz[0]) - 1):\n",
    "                finalInv[i][j] = copia[i][-2-j]\n",
    "        copia = finalInv.copy()\n",
    "        for i in range(0,len(matriz)):\n",
    "            finalInv[i] = copia[-1+-i]\n",
    "        return finalInv\n",
    "\n",
    "    def checarDim(self, matriz):\n",
    "        filas = len(matriz)\n",
    "        columnas = len(matriz[0])\n",
    "        if filas < columnas - 1 or filas > columnas - 1:\n",
    "            return False\n",
    "        return True\n",
    "\n",
    "\n",
    "    def Gauss(self, matriz):\n",
    "        for fila in range(0,len(matriz)):\n",
    "            if self.checarCeros(matriz, fila):\n",
    "                matriz = self.cambiarFilas(matriz, fila)\n",
    "                if not np.any(matriz):\n",
    "                    return False\n",
    "            self.sumarFilas(matriz, fila)\n",
    "        return matriz\n",
    "\n",
    "\n",
    "\n",
    "    def solucion(self, matriz):\n",
    "        if not self.checarDim(matriz):\n",
    "            print(\"La matriz no tiene solución\")\n",
    "            return False\n",
    "        matriz = self.Gauss(matriz)\n",
    "        # print(matriz)\n",
    "        if not np.any(matriz):\n",
    "            print(\"La matriz no tiene solución\")\n",
    "            return False\n",
    "        matriz = self.transformar(matriz)\n",
    "        # print(matriz)\n",
    "        matriz = self.Gauss(matriz)\n",
    "        # print(matriz)\n",
    "        matriz = self.transformar(matriz)\n",
    "        # print(matriz)\n",
    "        resultados = []\n",
    "        for i in range(0,len(matriz)):\n",
    "            resultados.append(matriz[i][-1]/matriz[i][i])\n",
    "        for i in range(0,len(resultados)):\n",
    "            print(f\"x{i} = {resultados[i]}\")\n",
    "        return matriz"
   ]
  },
  {
   "cell_type": "code",
   "execution_count": 51,
   "metadata": {},
   "outputs": [],
   "source": [
    "def matrizAleatoria():\n",
    "    filas = randint(1,6)\n",
    "    columnas = randint(2,6)\n",
    "    M = [[randint(0,9) for i in range(0,columnas)] for i in range(0,filas)]\n",
    "    M = np.array(M, dtype=float)\n",
    "    return M"
   ]
  },
  {
   "cell_type": "code",
   "execution_count": 79,
   "metadata": {},
   "outputs": [],
   "source": [
    "def crearMatriz():\n",
    "    filas = int(input(\"numero de filas: \"))\n",
    "    columnas = int(input(\"numero de columnas: \"))\n",
    "    matriz = []\n",
    "    for i in range(0,filas):\n",
    "        fila = []\n",
    "        for j in range(0,columnas):\n",
    "            fila.append(input(f\"elemento x[{i}][{j}]: \"))\n",
    "        matriz.append(fila)\n",
    "    return np.array(matriz, dtype=float)"
   ]
  },
  {
   "cell_type": "code",
   "execution_count": 80,
   "metadata": {},
   "outputs": [
    {
     "output_type": "execute_result",
     "data": {
      "text/plain": [
       "array([[1., 2., 3.],\n",
       "       [1., 2., 3.]])"
      ]
     },
     "metadata": {},
     "execution_count": 80
    }
   ],
   "source": [
    "M = crearMatriz()\n",
    "M   "
   ]
  },
  {
   "cell_type": "code",
   "execution_count": 71,
   "metadata": {},
   "outputs": [
    {
     "output_type": "stream",
     "name": "stdout",
     "text": [
      "[[7. 5. 0. 3. 5.]\n [2. 1. 6. 4. 4.]\n [5. 8. 7. 1. 5.]\n [4. 0. 4. 4. 6.]]\nx0 = 1.2374999999999996\nx1 = -0.575\nx2 = 0.5249999999999994\nx3 = -0.2624999999999989\n"
     ]
    },
    {
     "output_type": "execute_result",
     "data": {
      "text/plain": [
       "array([[ 7.00000000e+00, -8.88178420e-16,  0.00000000e+00,\n",
       "        -3.60420228e-15,  8.66250000e+00],\n",
       "       [ 0.00000000e+00, -4.28571429e-01,  0.00000000e+00,\n",
       "        -3.08931624e-16,  2.46428571e-01],\n",
       "       [ 0.00000000e+00,  0.00000000e+00,  6.90000000e+01,\n",
       "         3.55271368e-15,  3.62250000e+01],\n",
       "       [ 0.00000000e+00,  0.00000000e+00,  0.00000000e+00,\n",
       "        -2.31884058e+00,  6.08695652e-01]])"
      ]
     },
     "metadata": {},
     "execution_count": 71
    }
   ],
   "source": [
    "M = matrizAleatoria()\n",
    "Gauss().solucion(M)"
   ]
  }
 ]
}