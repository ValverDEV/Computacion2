{
 "metadata": {
  "language_info": {
   "codemirror_mode": {
    "name": "ipython",
    "version": 3
   },
   "file_extension": ".py",
   "mimetype": "text/x-python",
   "name": "python",
   "nbconvert_exporter": "python",
   "pygments_lexer": "ipython3",
   "version": "3.7.6"
  },
  "orig_nbformat": 2,
  "kernelspec": {
   "name": "python376jvsc74a57bd00613f9aabd2d046f4fbf75f117fc5348cb6021417cde57c69b5a86554e8e34ae",
   "display_name": "Python 3.7.6 64-bit ('base': conda)"
  }
 },
 "nbformat": 4,
 "nbformat_minor": 2,
 "cells": [
  {
   "cell_type": "code",
   "execution_count": 1,
   "metadata": {},
   "outputs": [],
   "source": [
    "import numpy as np\n",
    "from sympy import *\n",
    "from pprint import pprint\n",
    "from random import randint\n",
    "from copy import copy"
   ]
  },
  {
   "cell_type": "code",
   "execution_count": 16,
   "metadata": {},
   "outputs": [],
   "source": [
    "class Jacobiana:\n",
    "\n",
    "    def __init__(self, Xs):\n",
    "        self.Xs = Xs\n",
    "\n",
    "    def generar(self, ecuaciones):\n",
    "        Xs = self.Xs\n",
    "        dim = len(ecuaciones)\n",
    "        matriz = []\n",
    "        for i in range(dim):\n",
    "            fila = []\n",
    "            ecuacion = ecuaciones[i]\n",
    "            for j in range(dim):\n",
    "                fila.append(diff(ecuacion, Xs[j]))\n",
    "            matriz.append(fila)\n",
    "        \n",
    "        self.matriz = matriz\n",
    "        return matriz\n",
    "\n",
    "    def printJacobiana(self, M):\n",
    "        dim = len(M)\n",
    "        for i in range(dim):\n",
    "            print(M[i])\n",
    "\n",
    "    def evaluar(self, X0, X, A):\n",
    "        num = len(A)\n",
    "        matriz = np.zeros((num,num), dtype=np.float)\n",
    "        for i in range(num):#iteramos filas\n",
    "            for j in range(num):#iteramos columnas\n",
    "                ecuacion = copy(A[i][j])\n",
    "                for n in range(num):\n",
    "                    ecuacion = ecuacion.subs(X[n], X0[n])\n",
    "                matriz[i][j] = float(ecuacion)\n",
    "\n",
    "        # print('\\n\\nJacobiana evaluada:\\n\\n', matriz)\n",
    "        return matriz\n",
    "\n",
    "\n",
    "\n",
    "class NumMethods:\n",
    "\n",
    "    def norma(self, vector):\n",
    "        suma = 0\n",
    "        for i in vector:\n",
    "            suma += i**2\n",
    "        #print('\\n\\n, suma:\\n\\n',suma)\n",
    "        return sqrt(suma)\n",
    "\n",
    "    def printSolucion(self, Xs):\n",
    "        for i in range(len(Xs)):\n",
    "            print(f'\\n x{i} = {Xs[i]}')\n",
    "\n",
    "\n",
    "    def NewtonNL(self, num, eqs, X):\n",
    "        Jacob = Jacobiana(X)\n",
    "        J = Jacob.generar(eqs)\n",
    "        X0 = [0.1 for i in range(num)]\n",
    "        #X0 = [randint(-5,5) for i in range(num)]\n",
    "        maxIter = 100\n",
    "        error = 0.001\n",
    "        FX0 = [0 for i in range(len(eqs))]\n",
    "        for i in range(maxIter):\n",
    "            # print('\\n\\nJacobiana:\\n\\n', J)\n",
    "            #print('ecuaciones: ', eqs)\n",
    "            for j in range(num):\n",
    "                ecuacion = eqs[j]\n",
    "                for n in range(num):\n",
    "                    ecuacion = ecuacion.subs(X[n], X0[n])\n",
    "                    #print('\\n\\npasó sustitución\\n\\n'\n",
    "                FX0[j] = float(ecuacion)\n",
    "            Jinv = np.linalg.inv(Jacob.evaluar(X0, X, copy(J)))\n",
    "            # print('\\n\\nJacobiana original despues de calcular inversa:\\n\\n', J)\n",
    "            Y0 = np.matmul(Jinv, FX0)\n",
    "            X1 = X0-Y0\n",
    "            \n",
    "            # print('\\n\\nX0:\\n\\n', X0)\n",
    "            # print('\\n\\nFX0:\\n\\n', FX0)\n",
    "            # print('\\n\\nJacobiana inversa: \\n\\n', Jinv)\n",
    "            # print('\\n\\nY0:\\n\\n', Y0)\n",
    "            # print('\\n\\nX1:\\n\\n', X1)\n",
    "            # print('\\n\\nEcuaciones:\\n\\n', eqs)\n",
    "            if np.linalg.norm(X1-X0) <= error:\n",
    "                print('\\nLa solución calculada fue:')\n",
    "                self.printSolucion(X1)\n",
    "                return X1\n",
    "            #print('loop pasado: ', i)\n",
    "            X0 = X1\n",
    "            #print(X1)\n",
    "\n",
    "\n",
    "        print('Límite de iteraciones alcanzado. Valores aproximados:')\n",
    "        self.printSolucion(X1)\n",
    "        return X1"
   ]
  },
  {
   "cell_type": "code",
   "execution_count": 18,
   "metadata": {},
   "outputs": [],
   "source": [
    "def makeSymbolics(num):\n",
    "    return [symbols(f'x{i}') for i in range(num)]\n",
    "\n",
    "def sysEquations(num):\n",
    "    eqs = []\n",
    "    for i in range(num):\n",
    "        eqs.append(sympify(input(f'ingrese la ecuacion {i}:\\n')))\n",
    "    #eqs.append(sympify('x0**2+x0*x1-10'))\n",
    "    #eqs.append(sympify('x1 + 3*x0*x1**2 - 57'))\n",
    "    #eqs.append(sympify('x0**2+x1**2-13'))\n",
    "    #eqs.append(sympify('x0-x1 -1'))\n",
    "    return eqs"
   ]
  },
  {
   "cell_type": "code",
   "execution_count": 19,
   "metadata": {
    "tags": []
   },
   "outputs": [
    {
     "output_type": "stream",
     "name": "stdout",
     "text": [
      "Variables simbólicas:\n",
      " [x0, x1]\n",
      "Ecuaciones:\n",
      "\n",
      "x0**2 + x0*x1 - 10\n",
      "3*x0*x1**2 + x1 - 57\n",
      "\n",
      "La solución calculada fue:\n",
      "\n",
      " x0 = 1.9999999999999503\n",
      "\n",
      " x1 = 3.0000000000001705\n"
     ]
    },
    {
     "output_type": "execute_result",
     "data": {
      "text/plain": [
       "array([2., 3.])"
      ]
     },
     "metadata": {},
     "execution_count": 19
    }
   ],
   "source": [
    "#Main\n",
    "num = int(input('Ingese el número de incógnitas/ecuaciones: '))\n",
    "#num = 2\n",
    "X = makeSymbolics(num)\n",
    "print('Variables simbólicas:\\n', X)\n",
    "eqs = sysEquations(num)\n",
    "print('Ecuaciones:\\n')\n",
    "for i in eqs:\n",
    "    print(i)\n",
    "\n",
    "NM = NumMethods()\n",
    "NM.NewtonNL(num, eqs, X)"
   ]
  }
 ]
}