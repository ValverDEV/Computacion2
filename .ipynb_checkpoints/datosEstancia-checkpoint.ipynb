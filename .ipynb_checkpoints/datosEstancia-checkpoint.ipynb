{
 "cells": [
  {
   "cell_type": "code",
   "execution_count": 5,
   "metadata": {},
   "outputs": [],
   "source": [
    "import pandas as pd \n",
    "import numpy as np\n",
    "import matplotlib.pyplot as plt\n",
    "from sklearn.preprocessing import minmax_scale\n",
    "from sklearn.linear_model import LinearRegression"
   ]
  },
  {
   "cell_type": "code",
   "execution_count": 6,
   "metadata": {},
   "outputs": [],
   "source": [
    "data = pd.read_csv('encuesta.csv', encoding='UTF-8')"
   ]
  },
  {
   "cell_type": "code",
   "execution_count": 7,
   "metadata": {},
   "outputs": [
    {
     "data": {
      "text/html": [
       "<div>\n",
       "<style scoped>\n",
       "    .dataframe tbody tr th:only-of-type {\n",
       "        vertical-align: middle;\n",
       "    }\n",
       "\n",
       "    .dataframe tbody tr th {\n",
       "        vertical-align: top;\n",
       "    }\n",
       "\n",
       "    .dataframe thead th {\n",
       "        text-align: right;\n",
       "    }\n",
       "</style>\n",
       "<table border=\"1\" class=\"dataframe\">\n",
       "  <thead>\n",
       "    <tr style=\"text-align: right;\">\n",
       "      <th></th>\n",
       "      <th>Marca temporal</th>\n",
       "      <th>¿Practicas regularmente algún tipo de ejercicio de concentración (meditación, yoga, mindfulness, etc.)?</th>\n",
       "      <th>Responde de acuerdo con la frecuencia con la que te ocurren las siguientes oraciones: [Cuando estudio me concentro fácilmente]</th>\n",
       "      <th>Responde de acuerdo con la frecuencia con la que te ocurren las siguientes oraciones: [Escucho música mientras estudio]</th>\n",
       "      <th>Responde de acuerdo con la frecuencia con la que te ocurren las siguientes oraciones: [La música me ayuda a concentrar]</th>\n",
       "      <th>Responde de acuerdo con la frecuencia con la que te ocurren las siguientes oraciones: [Cambio de música según la actividad que realizo]</th>\n",
       "      <th>Responde de acuerdo con la frecuencia con la que te ocurren las siguientes oraciones: [Considero que el tipo de música es adecuado para la actividad que realizo]</th>\n",
       "      <th>Si escuchas música mientras estudias, qué géneros prefieres (puedes seleccionar más de uno). Si no escuchas, marca \"ninguno\" al final:</th>\n",
       "      <th>¿Cuáles son tus géneros de música favoritos?</th>\n",
       "      <th>¿Tiene letra?</th>\n",
       "      <th>¿Qué tan energética es?</th>\n",
       "      <th>¿Qué tan predecible es? (repetitiva o estable)</th>\n",
       "      <th>¿Cómo es su ritmo?</th>\n",
       "      <th>¿A qué volumen la escuchas?</th>\n",
       "    </tr>\n",
       "  </thead>\n",
       "  <tbody>\n",
       "    <tr>\n",
       "      <th>0</th>\n",
       "      <td>03/06/2021 16:42</td>\n",
       "      <td>No</td>\n",
       "      <td>Casi siempre</td>\n",
       "      <td>A veces</td>\n",
       "      <td>A veces</td>\n",
       "      <td>Casi nunca</td>\n",
       "      <td>Siempre</td>\n",
       "      <td>Clásica, Pop, Rock</td>\n",
       "      <td>Rock</td>\n",
       "      <td>4</td>\n",
       "      <td>3</td>\n",
       "      <td>3</td>\n",
       "      <td>3</td>\n",
       "      <td>3</td>\n",
       "    </tr>\n",
       "    <tr>\n",
       "      <th>1</th>\n",
       "      <td>03/06/2021 16:49</td>\n",
       "      <td>No</td>\n",
       "      <td>Siempre</td>\n",
       "      <td>Siempre</td>\n",
       "      <td>Siempre</td>\n",
       "      <td>Siempre</td>\n",
       "      <td>Siempre</td>\n",
       "      <td>Clásica, Electrónica, Pop, Soul</td>\n",
       "      <td>Clásica, Electrónica, Pop, Rock</td>\n",
       "      <td>3</td>\n",
       "      <td>2</td>\n",
       "      <td>1</td>\n",
       "      <td>3</td>\n",
       "      <td>4</td>\n",
       "    </tr>\n",
       "    <tr>\n",
       "      <th>2</th>\n",
       "      <td>03/06/2021 16:50</td>\n",
       "      <td>No</td>\n",
       "      <td>A veces</td>\n",
       "      <td>A veces</td>\n",
       "      <td>Casi nunca</td>\n",
       "      <td>Siempre</td>\n",
       "      <td>Casi siempre</td>\n",
       "      <td>De ambientación</td>\n",
       "      <td>Pop, Rap, Rock</td>\n",
       "      <td>2</td>\n",
       "      <td>3</td>\n",
       "      <td>4</td>\n",
       "      <td>3</td>\n",
       "      <td>3</td>\n",
       "    </tr>\n",
       "    <tr>\n",
       "      <th>3</th>\n",
       "      <td>03/06/2021 16:50</td>\n",
       "      <td>No</td>\n",
       "      <td>A veces</td>\n",
       "      <td>Casi siempre</td>\n",
       "      <td>Casi siempre</td>\n",
       "      <td>Casi nunca</td>\n",
       "      <td>A veces</td>\n",
       "      <td>Clásica, Electrónica, Pop</td>\n",
       "      <td>Clásica, Electrónica, Pop</td>\n",
       "      <td>4</td>\n",
       "      <td>4</td>\n",
       "      <td>3</td>\n",
       "      <td>4</td>\n",
       "      <td>3</td>\n",
       "    </tr>\n",
       "    <tr>\n",
       "      <th>4</th>\n",
       "      <td>03/06/2021 16:51</td>\n",
       "      <td>No</td>\n",
       "      <td>Casi siempre</td>\n",
       "      <td>A veces</td>\n",
       "      <td>A veces</td>\n",
       "      <td>Casi nunca</td>\n",
       "      <td>A veces</td>\n",
       "      <td>Clásica, Cumbia, Pop, Rock, Salsa</td>\n",
       "      <td>Cumbia, Pop, Rock, Salsa</td>\n",
       "      <td>5</td>\n",
       "      <td>4</td>\n",
       "      <td>5</td>\n",
       "      <td>5</td>\n",
       "      <td>2</td>\n",
       "    </tr>\n",
       "  </tbody>\n",
       "</table>\n",
       "</div>"
      ],
      "text/plain": [
       "     Marca temporal  \\\n",
       "0  03/06/2021 16:42   \n",
       "1  03/06/2021 16:49   \n",
       "2  03/06/2021 16:50   \n",
       "3  03/06/2021 16:50   \n",
       "4  03/06/2021 16:51   \n",
       "\n",
       "  ¿Practicas regularmente algún tipo de ejercicio de concentración (meditación, yoga, mindfulness, etc.)?  \\\n",
       "0                                                 No                                                        \n",
       "1                                                 No                                                        \n",
       "2                                                 No                                                        \n",
       "3                                                 No                                                        \n",
       "4                                                 No                                                        \n",
       "\n",
       "  Responde de acuerdo con la frecuencia con la que te ocurren las siguientes oraciones: [Cuando estudio me concentro fácilmente]  \\\n",
       "0                                       Casi siempre                                                                               \n",
       "1                                            Siempre                                                                               \n",
       "2                                            A veces                                                                               \n",
       "3                                            A veces                                                                               \n",
       "4                                       Casi siempre                                                                               \n",
       "\n",
       "  Responde de acuerdo con la frecuencia con la que te ocurren las siguientes oraciones: [Escucho música mientras estudio]  \\\n",
       "0                                            A veces                                                                        \n",
       "1                                            Siempre                                                                        \n",
       "2                                            A veces                                                                        \n",
       "3                                       Casi siempre                                                                        \n",
       "4                                            A veces                                                                        \n",
       "\n",
       "  Responde de acuerdo con la frecuencia con la que te ocurren las siguientes oraciones: [La música me ayuda a concentrar]  \\\n",
       "0                                            A veces                                                                        \n",
       "1                                            Siempre                                                                        \n",
       "2                                         Casi nunca                                                                        \n",
       "3                                       Casi siempre                                                                        \n",
       "4                                            A veces                                                                        \n",
       "\n",
       "  Responde de acuerdo con la frecuencia con la que te ocurren las siguientes oraciones: [Cambio de música según la actividad que realizo]  \\\n",
       "0                                         Casi nunca                                                                                        \n",
       "1                                            Siempre                                                                                        \n",
       "2                                            Siempre                                                                                        \n",
       "3                                         Casi nunca                                                                                        \n",
       "4                                         Casi nunca                                                                                        \n",
       "\n",
       "  Responde de acuerdo con la frecuencia con la que te ocurren las siguientes oraciones: [Considero que el tipo de música es adecuado para la actividad que realizo]  \\\n",
       "0                                            Siempre                                                                                                                  \n",
       "1                                            Siempre                                                                                                                  \n",
       "2                                       Casi siempre                                                                                                                  \n",
       "3                                            A veces                                                                                                                  \n",
       "4                                            A veces                                                                                                                  \n",
       "\n",
       "  Si escuchas música mientras estudias, qué géneros prefieres (puedes seleccionar más de uno). Si no escuchas, marca \"ninguno\" al final:  \\\n",
       "0                                 Clásica, Pop, Rock                                                                                       \n",
       "1                    Clásica, Electrónica, Pop, Soul                                                                                       \n",
       "2                                    De ambientación                                                                                       \n",
       "3                          Clásica, Electrónica, Pop                                                                                       \n",
       "4                  Clásica, Cumbia, Pop, Rock, Salsa                                                                                       \n",
       "\n",
       "  ¿Cuáles son tus géneros de música favoritos?  ¿Tiene letra?  \\\n",
       "0                                         Rock              4   \n",
       "1              Clásica, Electrónica, Pop, Rock              3   \n",
       "2                               Pop, Rap, Rock              2   \n",
       "3                    Clásica, Electrónica, Pop              4   \n",
       "4                     Cumbia, Pop, Rock, Salsa              5   \n",
       "\n",
       "   ¿Qué tan energética es?  ¿Qué tan predecible es? (repetitiva o estable)  \\\n",
       "0                        3                                               3   \n",
       "1                        2                                               1   \n",
       "2                        3                                               4   \n",
       "3                        4                                               3   \n",
       "4                        4                                               5   \n",
       "\n",
       "   ¿Cómo es su ritmo?  ¿A qué volumen la escuchas?  \n",
       "0                   3                            3  \n",
       "1                   3                            4  \n",
       "2                   3                            3  \n",
       "3                   4                            3  \n",
       "4                   5                            2  "
      ]
     },
     "execution_count": 7,
     "metadata": {},
     "output_type": "execute_result"
    }
   ],
   "source": [
    "data.head()"
   ]
  },
  {
   "cell_type": "code",
   "execution_count": 8,
   "metadata": {},
   "outputs": [],
   "source": [
    "generosEstudia = data.iloc[:,7].to_list()\n",
    "generosFav = data.iloc[:,8].to_list()\n"
   ]
  },
  {
   "cell_type": "code",
   "execution_count": 9,
   "metadata": {},
   "outputs": [
    {
     "data": {
      "text/plain": [
       "['Country', 'Pop', 'Rap', 'Reguetón', 'Rock', 'OST']"
      ]
     },
     "execution_count": 9,
     "metadata": {},
     "output_type": "execute_result"
    }
   ],
   "source": [
    "generosEstudia[-2].split(', ')"
   ]
  },
  {
   "cell_type": "code",
   "execution_count": 10,
   "metadata": {},
   "outputs": [],
   "source": [
    "generosEstudia = [string.split(', ') for string in generosEstudia]\n",
    "generosFav = [string.split(', ') for string in generosFav]"
   ]
  },
  {
   "cell_type": "code",
   "execution_count": 11,
   "metadata": {},
   "outputs": [],
   "source": [
    "def conteo_favs_est(lista1, lista2):\n",
    "    puntaje = 0\n",
    "    for genero in lista1:\n",
    "        if genero in lista2:\n",
    "            puntaje += 1\n",
    "        else:\n",
    "            puntaje -= 1\n",
    "    return puntaje"
   ]
  },
  {
   "cell_type": "code",
   "execution_count": 12,
   "metadata": {},
   "outputs": [
    {
     "data": {
      "text/plain": [
       "array([[-1],\n",
       "       [ 2],\n",
       "       [-1],\n",
       "       [ 3],\n",
       "       [ 3],\n",
       "       [ 0],\n",
       "       [ 1],\n",
       "       [ 3],\n",
       "       [-4],\n",
       "       [-3],\n",
       "       [ 1],\n",
       "       [-1],\n",
       "       [ 4],\n",
       "       [ 3],\n",
       "       [-3],\n",
       "       [-1],\n",
       "       [-1],\n",
       "       [ 0],\n",
       "       [ 1],\n",
       "       [ 5],\n",
       "       [-3],\n",
       "       [-1],\n",
       "       [-3],\n",
       "       [ 1],\n",
       "       [ 2],\n",
       "       [ 0],\n",
       "       [ 1],\n",
       "       [ 1],\n",
       "       [ 0],\n",
       "       [-1],\n",
       "       [ 0],\n",
       "       [-1],\n",
       "       [ 3],\n",
       "       [-1],\n",
       "       [-3],\n",
       "       [ 0],\n",
       "       [ 1],\n",
       "       [-2],\n",
       "       [ 1]])"
      ]
     },
     "execution_count": 12,
     "metadata": {},
     "output_type": "execute_result"
    }
   ],
   "source": [
    "puntajes = [conteo_favs_est(generosEstudia[i], generosFav[i])for i in range(len(generosFav))]\n",
    "puntajes = np.array(puntajes)\n",
    "puntajes.reshape(len(puntajes), 1)"
   ]
  },
  {
   "cell_type": "code",
   "execution_count": 13,
   "metadata": {},
   "outputs": [],
   "source": [
    "puntajes = minmax_scale(puntajes, feature_range=(0,1), copy=True)"
   ]
  },
  {
   "cell_type": "code",
   "execution_count": 14,
   "metadata": {},
   "outputs": [
    {
     "data": {
      "text/plain": [
       "array([0.33333333, 0.66666667, 0.33333333, 0.77777778, 0.77777778,\n",
       "       0.44444444, 0.55555556, 0.77777778, 0.        , 0.11111111,\n",
       "       0.55555556, 0.33333333, 0.88888889, 0.77777778, 0.11111111,\n",
       "       0.33333333, 0.33333333, 0.44444444, 0.55555556, 1.        ,\n",
       "       0.11111111, 0.33333333, 0.11111111, 0.55555556, 0.66666667,\n",
       "       0.44444444, 0.55555556, 0.55555556, 0.44444444, 0.33333333,\n",
       "       0.44444444, 0.33333333, 0.77777778, 0.33333333, 0.11111111,\n",
       "       0.44444444, 0.55555556, 0.22222222, 0.55555556])"
      ]
     },
     "execution_count": 14,
     "metadata": {},
     "output_type": "execute_result"
    }
   ],
   "source": [
    "puntajes"
   ]
  },
  {
   "cell_type": "code",
   "execution_count": 15,
   "metadata": {},
   "outputs": [],
   "source": [
    "concentrar = data.iloc[:,4].to_list()\n",
    "cat_to_num = {'Nunca' : 1, 'Casi nunca': 2, 'A veces': 3, 'Casi siempre': 4, 'Siempre': 5}"
   ]
  },
  {
   "cell_type": "code",
   "execution_count": 16,
   "metadata": {},
   "outputs": [
    {
     "data": {
      "text/plain": [
       "array([[3],\n",
       "       [5],\n",
       "       [2],\n",
       "       [4],\n",
       "       [3],\n",
       "       [5],\n",
       "       [4],\n",
       "       [3],\n",
       "       [5],\n",
       "       [5],\n",
       "       [4],\n",
       "       [4],\n",
       "       [3],\n",
       "       [3],\n",
       "       [4],\n",
       "       [3],\n",
       "       [1],\n",
       "       [4],\n",
       "       [3],\n",
       "       [3],\n",
       "       [3],\n",
       "       [4],\n",
       "       [3],\n",
       "       [3],\n",
       "       [3],\n",
       "       [2],\n",
       "       [5],\n",
       "       [2],\n",
       "       [3],\n",
       "       [2],\n",
       "       [3],\n",
       "       [2],\n",
       "       [5],\n",
       "       [1],\n",
       "       [3],\n",
       "       [3],\n",
       "       [3],\n",
       "       [3],\n",
       "       [3]])"
      ]
     },
     "execution_count": 16,
     "metadata": {},
     "output_type": "execute_result"
    }
   ],
   "source": [
    "concentrar = np.array([cat_to_num[i] for i in concentrar])\n",
    "concentrar.reshape(len(concentrar), 1)"
   ]
  },
  {
   "cell_type": "code",
   "execution_count": 17,
   "metadata": {},
   "outputs": [
    {
     "data": {
      "text/plain": [
       "array([0.5 , 1.  , 0.25, 0.75, 0.5 , 1.  , 0.75, 0.5 , 1.  , 1.  , 0.75,\n",
       "       0.75, 0.5 , 0.5 , 0.75, 0.5 , 0.  , 0.75, 0.5 , 0.5 , 0.5 , 0.75,\n",
       "       0.5 , 0.5 , 0.5 , 0.25, 1.  , 0.25, 0.5 , 0.25, 0.5 , 0.25, 1.  ,\n",
       "       0.  , 0.5 , 0.5 , 0.5 , 0.5 , 0.5 ])"
      ]
     },
     "execution_count": 17,
     "metadata": {},
     "output_type": "execute_result"
    }
   ],
   "source": [
    "concentrar = minmax_scale(concentrar, feature_range=(0,1), copy=True)\n",
    "concentrar"
   ]
  },
  {
   "cell_type": "code",
   "execution_count": 18,
   "metadata": {},
   "outputs": [
    {
     "data": {
      "text/plain": [
       "<matplotlib.collections.PathCollection at 0x174e42125c8>"
      ]
     },
     "execution_count": 18,
     "metadata": {},
     "output_type": "execute_result"
    },
    {
     "data": {
      "image/png": "[encoded data removed]",
      "text/plain": [
       "<Figure size 432x288 with 1 Axes>"
      ]
     },
     "metadata": {
      "needs_background": "light"
     },
     "output_type": "display_data"
    }
   ],
   "source": [
    "plt.scatter(puntajes, concentrar)"
   ]
  },
  {
   "cell_type": "code",
   "execution_count": 19,
   "metadata": {},
   "outputs": [],
   "source": [
    "puntajes = np.array(list(puntajes)).reshape((-1,1))\n",
    "concentrar = list(concentrar)"
   ]
  },
  {
   "cell_type": "code",
   "execution_count": 20,
   "metadata": {},
   "outputs": [],
   "source": [
    "reg = LinearRegression().fit(puntajes, concentrar)"
   ]
  },
  {
   "cell_type": "code",
   "execution_count": 21,
   "metadata": {},
   "outputs": [
    {
     "data": {
      "text/plain": [
       "array([0.03163445])"
      ]
     },
     "execution_count": 21,
     "metadata": {},
     "output_type": "execute_result"
    }
   ],
   "source": [
    "reg.coef_"
   ]
  },
  {
   "cell_type": "code",
   "execution_count": 22,
   "metadata": {},
   "outputs": [
    {
     "data": {
      "text/plain": [
       "0.0008352329081759979"
      ]
     },
     "execution_count": 22,
     "metadata": {},
     "output_type": "execute_result"
    }
   ],
   "source": [
    "reg.score(puntajes, concentrar)"
   ]
  },
  {
   "cell_type": "code",
   "execution_count": 23,
   "metadata": {},
   "outputs": [],
   "source": [
    "a = np.arange(0,1,0.1)\n",
    "b = [reg.predict([[i]]) for i in a]"
   ]
  },
  {
   "cell_type": "code",
   "execution_count": 24,
   "metadata": {},
   "outputs": [
    {
     "data": {
      "text/plain": [
       "Text(0.5, 1.0, 'Concentración vs Relación Géneros Favoritos-Estudiar')"
      ]
     },
     "execution_count": 24,
     "metadata": {},
     "output_type": "execute_result"
    },
    {
     "data": {
      "image/png": "[encoded data removed]",
      "text/plain": [
       "<Figure size 432x288 with 1 Axes>"
      ]
     },
     "metadata": {
      "needs_background": "light"
     },
     "output_type": "display_data"
    }
   ],
   "source": [
    "plt.scatter(puntajes, concentrar, label = 'Datos', color = 'r')\n",
    "plt.plot(a, b, label = 'Regresión', color = 'b')\n",
    "plt.legend(loc = 'upper right')\n",
    "plt.xlabel('Coincidencia de géneros escuchados en estudio con favoritos')\n",
    "plt.ylabel('Capacidad de concentrarse')\n",
    "plt.title('Concentración vs Relación Géneros Favoritos-Estudiar')"
   ]
  }
 ],
 "metadata": {
  "kernelspec": {
   "display_name": "Python 3",
   "language": "python",
   "name": "python3"
  },
  "language_info": {
   "codemirror_mode": {
    "name": "ipython",
    "version": 3
   },
   "file_extension": ".py",
   "mimetype": "text/x-python",
   "name": "python",
   "nbconvert_exporter": "python",
   "pygments_lexer": "ipython3",
   "version": "3.7.6"
  }
 },
 "nbformat": 4,
 "nbformat_minor": 2
}
