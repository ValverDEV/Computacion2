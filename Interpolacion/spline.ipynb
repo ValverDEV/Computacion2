{
 "metadata": {
  "language_info": {
   "codemirror_mode": {
    "name": "ipython",
    "version": 3
   },
   "file_extension": ".py",
   "mimetype": "text/x-python",
   "name": "python",
   "nbconvert_exporter": "python",
   "pygments_lexer": "ipython3",
   "version": "3.7.6"
  },
  "orig_nbformat": 2,
  "kernelspec": {
   "name": "python376jvsc74a57bd00613f9aabd2d046f4fbf75f117fc5348cb6021417cde57c69b5a86554e8e34ae",
   "display_name": "Python 3.7.6 64-bit ('base': conda)"
  }
 },
 "nbformat": 4,
 "nbformat_minor": 2,
 "cells": [
  {
   "source": [
    "# Interpolación Spline\n",
    "\n",
    "Mario Valverde"
   ],
   "cell_type": "markdown",
   "metadata": {}
  },
  {
   "source": [
    "Importamos nuestras librerías"
   ],
   "cell_type": "markdown",
   "metadata": {}
  },
  {
   "cell_type": "code",
   "execution_count": 1,
   "metadata": {},
   "outputs": [],
   "source": [
    "import pandas as pd\n",
    "import numpy as np\n",
    "from sympy import symbols, init_printing, expand, lambdify\n",
    "import matplotlib.pyplot as plt\n",
    "from time import time\n",
    "from random import randint\n",
    "\n",
    "x = symbols('x')"
   ]
  },
  {
   "source": [
    "Clase de Gauss para el método de Gauss-Jordan"
   ],
   "cell_type": "markdown",
   "metadata": {}
  },
  {
   "cell_type": "code",
   "execution_count": 2,
   "metadata": {},
   "outputs": [],
   "source": [
    "class Gauss:\n",
    "\n",
    "    def cambiarFilas(self, matriz, fila):\n",
    "        cambio = 0\n",
    "        for i in range(1, len(matriz) - fila):\n",
    "            if matriz[fila + i][fila] != 0:\n",
    "                cambio = i\n",
    "                break\n",
    "        \n",
    "        if not cambio:\n",
    "            return False\n",
    "            \n",
    "        fila1 = fila\n",
    "        fila2 = fila + cambio\n",
    "\n",
    "        temp = matriz[fila1].copy()\n",
    "        matriz[fila1] = matriz[fila2]\n",
    "        matriz[fila2] = temp\n",
    "        return matriz\n",
    "\n",
    "    def sumarFilas(self, matriz, fila):\n",
    "        for i in range(1, len(matriz) -  fila):\n",
    "            reduccion = matriz[fila][fila].copy()\n",
    "            multiplo = -1*matriz[fila+i][fila].copy()\n",
    "            matriz[fila + i] = matriz[fila+i] + matriz[fila] * multiplo / reduccion\n",
    "        return matriz\n",
    "\n",
    "    def checarCeros(self, matriz, fila):\n",
    "        if matriz[fila][fila] == 0:\n",
    "            return True\n",
    "        return False\n",
    "\n",
    "    def transformar(self, matriz):\n",
    "        copia = matriz.copy()\n",
    "        finalInv = matriz.copy()\n",
    "        for i in range(0,len(matriz)):\n",
    "            for j in range(0,len(matriz[0]) - 1):\n",
    "                finalInv[i][j] = copia[i][-2-j]\n",
    "        copia = finalInv.copy()\n",
    "        for i in range(0,len(matriz)):\n",
    "            finalInv[i] = copia[-1+-i]\n",
    "        return finalInv\n",
    "\n",
    "    def checarDim(self, matriz):\n",
    "        filas = len(matriz)\n",
    "        columnas = len(matriz[0])\n",
    "        if filas < columnas - 1 or filas > columnas - 1:\n",
    "            return False\n",
    "        return True\n",
    "\n",
    "\n",
    "    def Gauss(self, matriz):\n",
    "        for fila in range(0,len(matriz)):\n",
    "            if self.checarCeros(matriz, fila):\n",
    "                matriz = self.cambiarFilas(matriz, fila)\n",
    "                if not np.any(matriz):\n",
    "                    return False\n",
    "            self.sumarFilas(matriz, fila)\n",
    "        return matriz\n",
    "\n",
    "\n",
    "\n",
    "    def solucion(self, matriz):\n",
    "        if not self.checarDim(matriz):\n",
    "            print(\"La matriz no tiene solución\")\n",
    "            return False\n",
    "        matriz = self.Gauss(matriz)\n",
    "        if not np.any(matriz):\n",
    "            print(\"La matriz no tiene solución\")\n",
    "            return False\n",
    "        matriz = self.transformar(matriz)\n",
    "        matriz = self.Gauss(matriz)\n",
    "        matriz = self.transformar(matriz)\n",
    "        return matriz"
   ]
  },
  {
   "source": [
    "Clase NumMethods que contiene los métodos numéricos, particularmente el spline"
   ],
   "cell_type": "markdown",
   "metadata": {}
  },
  {
   "cell_type": "code",
   "execution_count": 3,
   "metadata": {},
   "outputs": [],
   "source": [
    "class NumMethods:\n",
    "\n",
    "    def __init__(self, Xs, Ys):\n",
    "        self.puntosX = Xs\n",
    "        self.puntosY = Ys\n",
    "        self.matriz = []\n",
    "        self.expr = 0\n",
    "\n",
    "    def ordenar_puntos(self):\n",
    "        desordenada = []\n",
    "        for i in range(len(self.puntosX)):\n",
    "            desordenada.append((self.puntosX[i], self.puntosY[i]))\n",
    "        ordenada = []\n",
    "        while desordenada:\n",
    "            min = 0\n",
    "            for i in range(len(desordenada)):\n",
    "                if desordenada[i][0] < desordenada[min][0]:\n",
    "                    min = i\n",
    "            ordenada.append(desordenada.pop(min))\n",
    "        self.puntosX = [x[0] for x in ordenada]\n",
    "        self.puntosY = [y[1] for y in ordenada]\n",
    "\n",
    "    def polinomios(self):\n",
    "        matriz = self.matriz\n",
    "        As = []\n",
    "        Bs = []\n",
    "        Cs = []\n",
    "        for i in range(0,int(len(matriz)/3)):\n",
    "            As.append(matriz[3*i][-1]/matriz[3*i][3*i])\n",
    "            Bs.append(matriz[3*i+1][-1]/matriz[3*i+1][3*i+1])\n",
    "            Cs.append(matriz[3*i+2][-1]/matriz[3*i+2][3*i+2])\n",
    "        \n",
    "        polis = []\n",
    "\n",
    "        print('Coeficientes: \\n')\n",
    "        for i in range(len(As)):\n",
    "            print(f'a{i} = {As[i]}')\n",
    "            print(f'b{i} = {Bs[i]}')\n",
    "            print(f'c{i} = {Cs[i]}')\n",
    "            poli = As[i]*x**2 + Bs[i]*x + Cs[i]\n",
    "            polis.append(poli)\n",
    "\n",
    "        print('\\n\\nPolinomios:\\n\\n')\n",
    "        \n",
    "        self.polis = polis\n",
    "        for i in polis:\n",
    "            print(i)\n",
    "\n",
    "    def spline(self):\n",
    "        self.ordenar_puntos()\n",
    "        Xs = self.puntosX\n",
    "        Ys = self.puntosY\n",
    "        #Xs=[3,4.5,7,9]\n",
    "        #Ys=[2.5,1,2.5,0.5]\n",
    "        dim = len(Xs) - 1\n",
    "        m_spline = np.zeros((dim*3,dim*3), dtype=np.float)\n",
    "        m_y = np.zeros((dim*3,1),dtype=np.float)\n",
    "        num_ecuaciones = dim\n",
    "        #primera condición: fi(xi) =yi, fi+1(xi)=yi\n",
    "        m_spline[0][0] = Xs[0]**2\n",
    "        m_spline[0][1] = Xs[0]\n",
    "        m_spline[0][2] = 1\n",
    "        m_y[0][0] = Ys[0]\n",
    "        for i in range(num_ecuaciones -1):\n",
    "            j = 2*i +1\n",
    "            m_spline[j][3*i + 0] = Xs[i+1]**2\n",
    "            m_spline[j][3*i + 1] = Xs[i+1]\n",
    "            m_spline[j][3*i + 2] = 1\n",
    "            m_y[j] = Ys[i+1]\n",
    "\n",
    "            m_spline[j+1][3*(i+1) + 0] = Xs[i+1]**2\n",
    "            m_spline[j+1][3*(i+1) + 1] = Xs[i+1]\n",
    "            m_spline[j+1][3*(i+1) + 2] = 1\n",
    "            m_y[j+1] = Ys[i+1]\n",
    "\n",
    "        m_spline[(num_ecuaciones-1)*2+1][-3] = Xs[-1]**2\n",
    "        m_spline[(num_ecuaciones-1)*2+1][-2] = Xs[-1]\n",
    "        m_spline[(num_ecuaciones-1)*2+1][-1] = 1\n",
    "\n",
    "        m_y[(num_ecuaciones-1)*2+1] = Ys[-1]\n",
    "        \n",
    "        #segunda condicion: derivdadas\n",
    "        for i in range(num_ecuaciones - 1):\n",
    "            # m_spline[-2-i][i] = Xs[i+1]*2\n",
    "            # m_spline[-2-i][i+1] = 1\n",
    "            # m_spline[-2-i][i+3] = -Xs[i+2]*2\n",
    "            # m_spline[-2-i][i+4] = -1\n",
    "\n",
    "\n",
    "            m_spline[-2-i][3*i+0] = Xs[i+1]*2\n",
    "            m_spline[-2-i][3*i+1] = 1\n",
    "            m_spline[-2-i][3*(i+1)+0] = -Xs[i+1]*2\n",
    "            m_spline[-2-i][3*(i+1)+1] = -1\n",
    "\n",
    "        #tercera condicion: segunda derivada\n",
    "        m_spline[-1][0] = 1\n",
    "\n",
    "        matriz = np.concatenate((m_spline, m_y), axis=1)\n",
    "        GJ = Gauss()\n",
    "        resultado = GJ.solucion(matriz)\n",
    "        self.matriz = resultado\n",
    "        self.polinomios()\n",
    "\n",
    "\n",
    "    def Grafica(self):\n",
    "        for i in range(len(self.puntosX) -1):\n",
    "            a = np.linspace(self.puntosX[i], self.puntosX[i+1], 1000)\n",
    "            b = [self.polis[i].subs(x, j) for j in a]\n",
    "            plt.plot(a,b)\n",
    "        plt.scatter(self.puntosX, self.puntosY)\n",
    "        plt.show()"
   ]
  },
  {
   "source": [
    "Importamos los datos"
   ],
   "cell_type": "markdown",
   "metadata": {}
  },
  {
   "cell_type": "code",
   "execution_count": 4,
   "metadata": {},
   "outputs": [
    {
     "output_type": "error",
     "ename": "ValueError",
     "evalue": "invalid literal for int() with base 10: ''",
     "traceback": [
      "\u001b[1;31m---------------------------------------------------------------------------\u001b[0m",
      "\u001b[1;31mValueError\u001b[0m                                Traceback (most recent call last)",
      "\u001b[1;32m<ipython-input-4-15120a404be0>\u001b[0m in \u001b[0;36m<module>\u001b[1;34m\u001b[0m\n\u001b[0;32m      4\u001b[0m \u001b[0ma\u001b[0m \u001b[1;33m=\u001b[0m \u001b[1;33m[\u001b[0m\u001b[1;33m]\u001b[0m\u001b[1;33m\u001b[0m\u001b[1;33m\u001b[0m\u001b[0m\n\u001b[0;32m      5\u001b[0m \u001b[0mb\u001b[0m \u001b[1;33m=\u001b[0m \u001b[1;33m[\u001b[0m\u001b[1;33m]\u001b[0m\u001b[1;33m\u001b[0m\u001b[1;33m\u001b[0m\u001b[0m\n\u001b[1;32m----> 6\u001b[1;33m \u001b[0minputs\u001b[0m \u001b[1;33m=\u001b[0m \u001b[0mint\u001b[0m\u001b[1;33m(\u001b[0m\u001b[0minput\u001b[0m\u001b[1;33m(\u001b[0m\u001b[1;34m'Número de puntos: '\u001b[0m\u001b[1;33m)\u001b[0m\u001b[1;33m)\u001b[0m\u001b[1;33m\u001b[0m\u001b[1;33m\u001b[0m\u001b[0m\n\u001b[0m\u001b[0;32m      7\u001b[0m \u001b[1;32mwhile\u001b[0m \u001b[0mlen\u001b[0m\u001b[1;33m(\u001b[0m\u001b[0ma\u001b[0m\u001b[1;33m)\u001b[0m \u001b[1;33m<\u001b[0m \u001b[0minputs\u001b[0m\u001b[1;33m:\u001b[0m\u001b[1;33m\u001b[0m\u001b[1;33m\u001b[0m\u001b[0m\n\u001b[0;32m      8\u001b[0m     \u001b[0mnum\u001b[0m \u001b[1;33m=\u001b[0m \u001b[0mrandint\u001b[0m\u001b[1;33m(\u001b[0m\u001b[1;36m0\u001b[0m\u001b[1;33m,\u001b[0m \u001b[0mlen\u001b[0m\u001b[1;33m(\u001b[0m\u001b[0mXs\u001b[0m\u001b[1;33m)\u001b[0m \u001b[1;33m-\u001b[0m\u001b[1;36m1\u001b[0m\u001b[1;33m)\u001b[0m\u001b[1;33m\u001b[0m\u001b[1;33m\u001b[0m\u001b[0m\n",
      "\u001b[1;31mValueError\u001b[0m: invalid literal for int() with base 10: ''"
     ]
    }
   ],
   "source": [
    "dataset = pd.read_csv('https://gist.githubusercontent.com/seankross/a412dfbd88b3db70b74b/raw/5f23f993cd87c283ce766e7ac6b329ee7cc2e1d1/mtcars.csv')\n",
    "Xs = dataset['mpg'].tolist()\n",
    "Ys = dataset['disp'].tolist()\n",
    "a = []\n",
    "b = []\n",
    "inputs = int(input('Número de puntos: '))\n",
    "while len(a) < inputs:\n",
    "    num = randint(0, len(Xs) -1)\n",
    "    if (Xs[num] not in a) and (Ys[num] not in b):\n",
    "        a.append(Xs[num])\n",
    "        b.append(Ys[num])\n",
    "Xs = a\n",
    "Ys = b"
   ]
  },
  {
   "source": [
    "Imprimimos los puntos"
   ],
   "cell_type": "markdown",
   "metadata": {}
  },
  {
   "cell_type": "code",
   "execution_count": 89,
   "metadata": {},
   "outputs": [
    {
     "output_type": "stream",
     "name": "stdout",
     "text": [
      "Datos de las millas por galón:\n[30.4, 17.3, 19.7, 21.4, 15.0, 10.4, 19.2]\nDatos del desplazamiento de los motores:\n[95.1, 275.8, 145.0, 121.0, 301.0, 472.0, 167.6]\n"
     ]
    }
   ],
   "source": [
    "print('Datos de las millas por galón:')\n",
    "print(Xs)\n",
    "print('Datos del desplazamiento de los motores:')\n",
    "print(Ys)"
   ]
  },
  {
   "source": [
    "Hacemos la interpolación"
   ],
   "cell_type": "markdown",
   "metadata": {}
  },
  {
   "cell_type": "code",
   "execution_count": 4,
   "metadata": {},
   "outputs": [
    {
     "output_type": "error",
     "ename": "NameError",
     "evalue": "name 'NumMethods' is not defined",
     "traceback": [
      "\u001b[1;31m---------------------------------------------------------------------------\u001b[0m",
      "\u001b[1;31mNameError\u001b[0m                                 Traceback (most recent call last)",
      "\u001b[1;32m<ipython-input-4-ca8d03516c5c>\u001b[0m in \u001b[0;36m<module>\u001b[1;34m\u001b[0m\n\u001b[1;32m----> 1\u001b[1;33m \u001b[0mNM\u001b[0m \u001b[1;33m=\u001b[0m \u001b[0mNumMethods\u001b[0m\u001b[1;33m(\u001b[0m\u001b[0mXs\u001b[0m\u001b[1;33m,\u001b[0m \u001b[0mYs\u001b[0m\u001b[1;33m)\u001b[0m\u001b[1;33m\u001b[0m\u001b[1;33m\u001b[0m\u001b[0m\n\u001b[0m\u001b[0;32m      2\u001b[0m \u001b[0mt\u001b[0m \u001b[1;33m=\u001b[0m \u001b[0mtime\u001b[0m\u001b[1;33m(\u001b[0m\u001b[1;33m)\u001b[0m\u001b[1;33m\u001b[0m\u001b[1;33m\u001b[0m\u001b[0m\n\u001b[0;32m      3\u001b[0m \u001b[0mNM\u001b[0m\u001b[1;33m.\u001b[0m\u001b[0mspline\u001b[0m\u001b[1;33m(\u001b[0m\u001b[1;33m)\u001b[0m\u001b[1;33m\u001b[0m\u001b[1;33m\u001b[0m\u001b[0m\n\u001b[0;32m      4\u001b[0m \u001b[0mprint\u001b[0m\u001b[1;33m(\u001b[0m\u001b[1;34mf'\\nEl tiempo de ejecución fue de {time() - t} segundos.\\n'\u001b[0m\u001b[1;33m)\u001b[0m\u001b[1;33m\u001b[0m\u001b[1;33m\u001b[0m\u001b[0m\n\u001b[0;32m      5\u001b[0m \u001b[0mNM\u001b[0m\u001b[1;33m.\u001b[0m\u001b[0mGrafica\u001b[0m\u001b[1;33m(\u001b[0m\u001b[1;33m)\u001b[0m\u001b[1;33m\u001b[0m\u001b[1;33m\u001b[0m\u001b[0m\n",
      "\u001b[1;31mNameError\u001b[0m: name 'NumMethods' is not defined"
     ]
    }
   ],
   "source": [
    "NM = NumMethods(Xs, Ys)\n",
    "t = time()\n",
    "NM.spline()\n",
    "print(f'\\nEl tiempo de ejecución fue de {time() - t} segundos.\\n')\n",
    "NM.Grafica()"
   ]
  }
 ]
}