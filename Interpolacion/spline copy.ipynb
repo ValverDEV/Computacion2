{
 "metadata": {
  "language_info": {
   "codemirror_mode": {
    "name": "ipython",
    "version": 3
   },
   "file_extension": ".py",
   "mimetype": "text/x-python",
   "name": "python",
   "nbconvert_exporter": "python",
   "pygments_lexer": "ipython3",
   "version": "3.7.6"
  },
  "orig_nbformat": 2,
  "kernelspec": {
   "name": "python376jvsc74a57bd00613f9aabd2d046f4fbf75f117fc5348cb6021417cde57c69b5a86554e8e34ae",
   "display_name": "Python 3.7.6 64-bit ('base': conda)"
  }
 },
 "nbformat": 4,
 "nbformat_minor": 2,
 "cells": [
  {
   "source": [
    "# Interpolación Spline\n",
    "\n",
    "Mario Valverde"
   ],
   "cell_type": "markdown",
   "metadata": {}
  },
  {
   "source": [
    "Importamos nuestras librerías"
   ],
   "cell_type": "markdown",
   "metadata": {}
  },
  {
   "cell_type": "code",
   "execution_count": 7,
   "metadata": {},
   "outputs": [],
   "source": [
    "import pandas as pd\n",
    "import numpy as np\n",
    "from sympy import symbols, init_printing, expand, lambdify\n",
    "import matplotlib.pyplot as plt\n",
    "from time import time\n",
    "from random import randint\n",
    "\n",
    "x = symbols('x')"
   ]
  },
  {
   "source": [
    "Clase de Gauss para el método de Gauss-Jordan"
   ],
   "cell_type": "markdown",
   "metadata": {}
  },
  {
   "cell_type": "code",
   "execution_count": 8,
   "metadata": {},
   "outputs": [],
   "source": [
    "class Gauss:\n",
    "\n",
    "    def cambiarFilas(self, matriz, fila):\n",
    "        cambio = 0\n",
    "        for i in range(1, len(matriz) - fila):\n",
    "            if matriz[fila + i][fila] != 0:\n",
    "                cambio = i\n",
    "                break\n",
    "        \n",
    "        if not cambio:\n",
    "            return False\n",
    "            \n",
    "        fila1 = fila\n",
    "        fila2 = fila + cambio\n",
    "\n",
    "        temp = matriz[fila1].copy()\n",
    "        matriz[fila1] = matriz[fila2]\n",
    "        matriz[fila2] = temp\n",
    "        return matriz\n",
    "\n",
    "    def sumarFilas(self, matriz, fila):\n",
    "        for i in range(1, len(matriz) -  fila):\n",
    "            reduccion = matriz[fila][fila].copy()\n",
    "            multiplo = -1*matriz[fila+i][fila].copy()\n",
    "            matriz[fila + i] = matriz[fila+i] + matriz[fila] * multiplo / reduccion\n",
    "        return matriz\n",
    "\n",
    "    def checarCeros(self, matriz, fila):\n",
    "        if matriz[fila][fila] == 0:\n",
    "            return True\n",
    "        return False\n",
    "\n",
    "    def transformar(self, matriz):\n",
    "        copia = matriz.copy()\n",
    "        finalInv = matriz.copy()\n",
    "        for i in range(0,len(matriz)):\n",
    "            for j in range(0,len(matriz[0]) - 1):\n",
    "                finalInv[i][j] = copia[i][-2-j]\n",
    "        copia = finalInv.copy()\n",
    "        for i in range(0,len(matriz)):\n",
    "            finalInv[i] = copia[-1+-i]\n",
    "        return finalInv\n",
    "\n",
    "    def checarDim(self, matriz):\n",
    "        filas = len(matriz)\n",
    "        columnas = len(matriz[0])\n",
    "        if filas < columnas - 1 or filas > columnas - 1:\n",
    "            return False\n",
    "        return True\n",
    "\n",
    "\n",
    "    def Gauss(self, matriz):\n",
    "        for fila in range(0,len(matriz)):\n",
    "            if self.checarCeros(matriz, fila):\n",
    "                matriz = self.cambiarFilas(matriz, fila)\n",
    "                if not np.any(matriz):\n",
    "                    return False\n",
    "            self.sumarFilas(matriz, fila)\n",
    "        return matriz\n",
    "\n",
    "\n",
    "\n",
    "    def solucion(self, matriz):\n",
    "        if not self.checarDim(matriz):\n",
    "            print(\"La matriz no tiene solución\")\n",
    "            return False\n",
    "        matriz = self.Gauss(matriz)\n",
    "        if not np.any(matriz):\n",
    "            print(\"La matriz no tiene solución\")\n",
    "            return False\n",
    "        matriz = self.transformar(matriz)\n",
    "        matriz = self.Gauss(matriz)\n",
    "        matriz = self.transformar(matriz)\n",
    "        return matriz"
   ]
  },
  {
   "source": [
    "Clase NumMethods que contiene los métodos numéricos, particularmente el spline"
   ],
   "cell_type": "markdown",
   "metadata": {}
  },
  {
   "cell_type": "code",
   "execution_count": 9,
   "metadata": {},
   "outputs": [],
   "source": [
    "class NumMethods:\n",
    "\n",
    "    def __init__(self, Xs, Ys):\n",
    "        self.puntosX = Xs\n",
    "        self.puntosY = Ys\n",
    "        self.matriz = []\n",
    "        self.expr = 0\n",
    "\n",
    "    def ordenar_puntos(self):\n",
    "        desordenada = []\n",
    "        for i in range(len(self.puntosX)):\n",
    "            desordenada.append((self.puntosX[i], self.puntosY[i]))\n",
    "        ordenada = []\n",
    "        while desordenada:\n",
    "            min = 0\n",
    "            for i in range(len(desordenada)):\n",
    "                if desordenada[i][0] < desordenada[min][0]:\n",
    "                    min = i\n",
    "            ordenada.append(desordenada.pop(min))\n",
    "        self.puntosX = [x[0] for x in ordenada]\n",
    "        self.puntosY = [y[1] for y in ordenada]\n",
    "\n",
    "    def polinomios(self):\n",
    "        matriz = self.matriz\n",
    "        As = []\n",
    "        Bs = []\n",
    "        Cs = []\n",
    "        for i in range(0,int(len(matriz)/3)):\n",
    "            As.append(matriz[3*i][-1]/matriz[3*i][3*i])\n",
    "            Bs.append(matriz[3*i+1][-1]/matriz[3*i+1][3*i+1])\n",
    "            Cs.append(matriz[3*i+2][-1]/matriz[3*i+2][3*i+2])\n",
    "        \n",
    "        polis = []\n",
    "\n",
    "        print('Coeficientes: \\n')\n",
    "        for i in range(len(As)):\n",
    "            print(f'a{i} = {As[i]}')\n",
    "            print(f'b{i} = {Bs[i]}')\n",
    "            print(f'c{i} = {Cs[i]}')\n",
    "            poli = As[i]*x**2 + Bs[i]*x + Cs[i]\n",
    "            polis.append(poli)\n",
    "\n",
    "        print('\\n\\nPolinomios:\\n\\n')\n",
    "        \n",
    "        self.polis = polis\n",
    "        for i in polis:\n",
    "            print(i)\n",
    "\n",
    "    def spline(self):\n",
    "        self.ordenar_puntos()\n",
    "        Xs = self.puntosX\n",
    "        Ys = self.puntosY\n",
    "        #Xs=[3,4.5,7,9]\n",
    "        #Ys=[2.5,1,2.5,0.5]\n",
    "        dim = len(Xs) - 1\n",
    "        m_spline = np.zeros((dim*3,dim*3), dtype=np.float)\n",
    "        m_y = np.zeros((dim*3,1),dtype=np.float)\n",
    "        num_ecuaciones = dim\n",
    "        #primera condición: fi(xi) =yi, fi+1(xi)=yi\n",
    "        m_spline[0][0] = Xs[0]**2\n",
    "        m_spline[0][1] = Xs[0]\n",
    "        m_spline[0][2] = 1\n",
    "        m_y[0][0] = Ys[0]\n",
    "        for i in range(num_ecuaciones -1):\n",
    "            j = 2*i +1\n",
    "            m_spline[j][3*i + 0] = Xs[i+1]**2\n",
    "            m_spline[j][3*i + 1] = Xs[i+1]\n",
    "            m_spline[j][3*i + 2] = 1\n",
    "            m_y[j] = Ys[i+1]\n",
    "\n",
    "            m_spline[j+1][3*(i+1) + 0] = Xs[i+1]**2\n",
    "            m_spline[j+1][3*(i+1) + 1] = Xs[i+1]\n",
    "            m_spline[j+1][3*(i+1) + 2] = 1\n",
    "            m_y[j+1] = Ys[i+1]\n",
    "\n",
    "        m_spline[(num_ecuaciones-1)*2+1][-3] = Xs[-1]**2\n",
    "        m_spline[(num_ecuaciones-1)*2+1][-2] = Xs[-1]\n",
    "        m_spline[(num_ecuaciones-1)*2+1][-1] = 1\n",
    "\n",
    "        m_y[(num_ecuaciones-1)*2+1] = Ys[-1]\n",
    "        \n",
    "        #segunda condicion: derivdadas\n",
    "        for i in range(num_ecuaciones - 1):\n",
    "            # m_spline[-2-i][i] = Xs[i+1]*2\n",
    "            # m_spline[-2-i][i+1] = 1\n",
    "            # m_spline[-2-i][i+3] = -Xs[i+2]*2\n",
    "            # m_spline[-2-i][i+4] = -1\n",
    "\n",
    "\n",
    "            m_spline[-2-i][3*i+0] = Xs[i+1]*2\n",
    "            m_spline[-2-i][3*i+1] = 1\n",
    "            m_spline[-2-i][3*(i+1)+0] = -Xs[i+1]*2\n",
    "            m_spline[-2-i][3*(i+1)+1] = -1\n",
    "\n",
    "        #tercera condicion: segunda derivada\n",
    "        m_spline[-1][0] = 1\n",
    "\n",
    "        matriz = np.concatenate((m_spline, m_y), axis=1)\n",
    "        GJ = Gauss()\n",
    "        resultado = GJ.solucion(matriz)\n",
    "        self.matriz = resultado\n",
    "        self.polinomios()\n",
    "\n",
    "\n",
    "    def Grafica(self):\n",
    "        for i in range(len(self.puntosX) -1):\n",
    "            a = np.linspace(self.puntosX[i], self.puntosX[i+1], 1000)\n",
    "            b = [self.polis[i].subs(x, j) for j in a]\n",
    "            plt.plot(a,b)\n",
    "        plt.scatter(self.puntosX, self.puntosY)\n",
    "        plt.show()"
   ]
  },
  {
   "source": [
    "Imprimimos los puntos"
   ],
   "cell_type": "markdown",
   "metadata": {}
  },
  {
   "cell_type": "code",
   "execution_count": 10,
   "metadata": {},
   "outputs": [],
   "source": [
    "Xs = [-2, -1, -0.5, 0.5, 1, 2]\n",
    "Ys = [-637, -96.5, -20.5, 20.5, 96.5, 637]"
   ]
  },
  {
   "cell_type": "code",
   "execution_count": 11,
   "metadata": {},
   "outputs": [
    {
     "output_type": "stream",
     "name": "stdout",
     "text": [
      "Datos de las millas por galón:\n[-2, -1, -0.5, 0.5, 1, 2]\nDatos del desplazamiento de los motores:\n[-637, -96.5, -20.5, 20.5, 96.5, 637]\n"
     ]
    }
   ],
   "source": [
    "print('Datos de las millas por galón:')\n",
    "print(Xs)\n",
    "print('Datos del desplazamiento de los motores:')\n",
    "print(Ys)"
   ]
  },
  {
   "source": [
    "Hacemos la interpolación"
   ],
   "cell_type": "markdown",
   "metadata": {}
  },
  {
   "cell_type": "code",
   "execution_count": 12,
   "metadata": {},
   "outputs": [
    {
     "output_type": "stream",
     "name": "stdout",
     "text": [
      "Coeficientes: \n\na0 = -2.2737367544323206e-13\nb0 = 540.4999999999993\nc0 = 443.99999999999955\na1 = -776.9999999999998\nb1 = -1013.4999999999998\nc1 = -332.99999999999994\na2 = 277.49999999999994\nb2 = 41.00000000000002\nc2 = -69.37499999999997\na3 = -332.9999999999997\nb3 = 651.4999999999997\nc3 = -221.9999999999999\na4 = 555.0\nb4 = -1124.4999999999998\nc4 = 665.9999999999998\n\n\nPolinomios:\n\n\n-2.27373675443232e-13*x**2 + 540.499999999999*x + 444.0\n-777.0*x**2 - 1013.5*x - 333.0\n277.5*x**2 + 41.0*x - 69.375\n-333.0*x**2 + 651.5*x - 222.0\n555.0*x**2 - 1124.5*x + 666.0\n\nEl tiempo de ejecución fue de 0.23868179321289062 segundos.\n\n"
     ]
    },
    {
     "output_type": "display_data",
     "data": {
      "text/plain": "<Figure size 432x288 with 1 Axes>",
      "image/svg+xml": "<?xml version=\"1.0\" encoding=\"utf-8\" standalone=\"no\"?>\r\n<!DOCTYPE svg PUBLIC \"-//W3C//DTD SVG 1.1//EN\"\r\n  \"http://www.w3.org/Graphics/SVG/1.1/DTD/svg11.dtd\">\r\n<!-- Created with matplotlib (https://matplotlib.org/) -->\r\n<svg height=\"248.518125pt\" version=\"1.1\" viewBox=\"0 0 383.667187 248.518125\" width=\"383.667187pt\" xmlns=\"http://www.w3.org/2000/svg\" xmlns:xlink=\"http://www.w3.org/1999/xlink\">\r\n <metadata>\r\n  <rdf:RDF xmlns:cc=\"http://creativecommons.org/ns#\" xmlns:dc=\"http://purl.org/dc/elements/1.1/\" xmlns:rdf=\"http://www.w3.org/1999/02/22-rdf-syntax-ns#\">\r\n   <cc:Work>\r\n    <dc:type rdf:resource=\"http://purl.org/dc/dcmitype/StillImage\"/>\r\n    <dc:date>2021-05-12T17:56:45.579602</dc:date>\r\n    <dc:format>image/svg+xml</dc:format>\r\n    <dc:creator>\r\n     <cc:Agent>\r\n      <dc:title>Matplotlib v3.3.4, https://matplotlib.org/</dc:title>\r\n     </cc:Agent>\r\n    </dc:creator>\r\n   </cc:Work>\r\n  </rdf:RDF>\r\n </metadata>\r\n <defs>\r\n  <style type=\"text/css\">*{stroke-linecap:butt;stroke-linejoin:round;}</style>\r\n </defs>\r\n <g id=\"figure_1\">\r\n  <g id=\"patch_1\">\r\n   <path d=\"M 0 248.518125 \r\nL 383.667187 248.518125 \r\nL 383.667187 0 \r\nL 0 0 \r\nz\r\n\" style=\"fill:none;\"/>\r\n  </g>\r\n  <g id=\"axes_1\">\r\n   <g id=\"patch_2\">\r\n    <path d=\"M 41.667188 224.64 \r\nL 376.467188 224.64 \r\nL 376.467188 7.2 \r\nL 41.667188 7.2 \r\nz\r\n\" style=\"fill:#ffffff;\"/>\r\n   </g>\r\n   <g id=\"PathCollection_1\">\r\n    <defs>\r\n     <path d=\"M 0 3 \r\nC 0.795609 3 1.55874 2.683901 2.12132 2.12132 \r\nC 2.683901 1.55874 3 0.795609 3 0 \r\nC 3 -0.795609 2.683901 -1.55874 2.12132 -2.12132 \r\nC 1.55874 -2.683901 0.795609 -3 0 -3 \r\nC -0.795609 -3 -1.55874 -2.683901 -2.12132 -2.12132 \r\nC -2.683901 -1.55874 -3 -0.795609 -3 0 \r\nC -3 0.795609 -2.683901 1.55874 -2.12132 2.12132 \r\nC -1.55874 2.683901 -0.795609 3 0 3 \r\nz\r\n\" id=\"mb0efa546eb\" style=\"stroke:#1f77b4;\"/>\r\n    </defs>\r\n    <g clip-path=\"url(#pd40e6f1d68)\">\r\n     <use style=\"fill:#1f77b4;stroke:#1f77b4;\" x=\"56.885369\" xlink:href=\"#mb0efa546eb\" y=\"214.756364\"/>\r\n     <use style=\"fill:#1f77b4;stroke:#1f77b4;\" x=\"132.976278\" xlink:href=\"#mb0efa546eb\" y=\"130.892856\"/>\r\n     <use style=\"fill:#1f77b4;stroke:#1f77b4;\" x=\"171.021733\" xlink:href=\"#mb0efa546eb\" y=\"119.100762\"/>\r\n     <use style=\"fill:#1f77b4;stroke:#1f77b4;\" x=\"247.112642\" xlink:href=\"#mb0efa546eb\" y=\"112.739238\"/>\r\n     <use style=\"fill:#1f77b4;stroke:#1f77b4;\" x=\"285.158097\" xlink:href=\"#mb0efa546eb\" y=\"100.947144\"/>\r\n     <use style=\"fill:#1f77b4;stroke:#1f77b4;\" x=\"361.249006\" xlink:href=\"#mb0efa546eb\" y=\"17.083636\"/>\r\n    </g>\r\n   </g>\r\n   <g id=\"matplotlib.axis_1\">\r\n    <g id=\"xtick_1\">\r\n     <g id=\"line2d_1\">\r\n      <defs>\r\n       <path d=\"M 0 0 \r\nL 0 3.5 \r\n\" id=\"me70be6e9c8\" style=\"stroke:#000000;stroke-width:0.8;\"/>\r\n      </defs>\r\n      <g>\r\n       <use style=\"stroke:#000000;stroke-width:0.8;\" x=\"56.885369\" xlink:href=\"#me70be6e9c8\" y=\"224.64\"/>\r\n      </g>\r\n     </g>\r\n     <g id=\"text_1\">\r\n      <!-- −2.0 -->\r\n      <g transform=\"translate(44.743963 239.238437)scale(0.1 -0.1)\">\r\n       <defs>\r\n        <path d=\"M 10.59375 35.5 \r\nL 73.1875 35.5 \r\nL 73.1875 27.203125 \r\nL 10.59375 27.203125 \r\nz\r\n\" id=\"DejaVuSans-8722\"/>\r\n        <path d=\"M 19.1875 8.296875 \r\nL 53.609375 8.296875 \r\nL 53.609375 0 \r\nL 7.328125 0 \r\nL 7.328125 8.296875 \r\nQ 12.9375 14.109375 22.625 23.890625 \r\nQ 32.328125 33.6875 34.8125 36.53125 \r\nQ 39.546875 41.84375 41.421875 45.53125 \r\nQ 43.3125 49.21875 43.3125 52.78125 \r\nQ 43.3125 58.59375 39.234375 62.25 \r\nQ 35.15625 65.921875 28.609375 65.921875 \r\nQ 23.96875 65.921875 18.8125 64.3125 \r\nQ 13.671875 62.703125 7.8125 59.421875 \r\nL 7.8125 69.390625 \r\nQ 13.765625 71.78125 18.9375 73 \r\nQ 24.125 74.21875 28.421875 74.21875 \r\nQ 39.75 74.21875 46.484375 68.546875 \r\nQ 53.21875 62.890625 53.21875 53.421875 \r\nQ 53.21875 48.921875 51.53125 44.890625 \r\nQ 49.859375 40.875 45.40625 35.40625 \r\nQ 44.1875 33.984375 37.640625 27.21875 \r\nQ 31.109375 20.453125 19.1875 8.296875 \r\nz\r\n\" id=\"DejaVuSans-50\"/>\r\n        <path d=\"M 10.6875 12.40625 \r\nL 21 12.40625 \r\nL 21 0 \r\nL 10.6875 0 \r\nz\r\n\" id=\"DejaVuSans-46\"/>\r\n        <path d=\"M 31.78125 66.40625 \r\nQ 24.171875 66.40625 20.328125 58.90625 \r\nQ 16.5 51.421875 16.5 36.375 \r\nQ 16.5 21.390625 20.328125 13.890625 \r\nQ 24.171875 6.390625 31.78125 6.390625 \r\nQ 39.453125 6.390625 43.28125 13.890625 \r\nQ 47.125 21.390625 47.125 36.375 \r\nQ 47.125 51.421875 43.28125 58.90625 \r\nQ 39.453125 66.40625 31.78125 66.40625 \r\nz\r\nM 31.78125 74.21875 \r\nQ 44.046875 74.21875 50.515625 64.515625 \r\nQ 56.984375 54.828125 56.984375 36.375 \r\nQ 56.984375 17.96875 50.515625 8.265625 \r\nQ 44.046875 -1.421875 31.78125 -1.421875 \r\nQ 19.53125 -1.421875 13.0625 8.265625 \r\nQ 6.59375 17.96875 6.59375 36.375 \r\nQ 6.59375 54.828125 13.0625 64.515625 \r\nQ 19.53125 74.21875 31.78125 74.21875 \r\nz\r\n\" id=\"DejaVuSans-48\"/>\r\n       </defs>\r\n       <use xlink:href=\"#DejaVuSans-8722\"/>\r\n       <use x=\"83.789062\" xlink:href=\"#DejaVuSans-50\"/>\r\n       <use x=\"147.412109\" xlink:href=\"#DejaVuSans-46\"/>\r\n       <use x=\"179.199219\" xlink:href=\"#DejaVuSans-48\"/>\r\n      </g>\r\n     </g>\r\n    </g>\r\n    <g id=\"xtick_2\">\r\n     <g id=\"line2d_2\">\r\n      <g>\r\n       <use style=\"stroke:#000000;stroke-width:0.8;\" x=\"94.930824\" xlink:href=\"#me70be6e9c8\" y=\"224.64\"/>\r\n      </g>\r\n     </g>\r\n     <g id=\"text_2\">\r\n      <!-- −1.5 -->\r\n      <g transform=\"translate(82.789418 239.238437)scale(0.1 -0.1)\">\r\n       <defs>\r\n        <path d=\"M 12.40625 8.296875 \r\nL 28.515625 8.296875 \r\nL 28.515625 63.921875 \r\nL 10.984375 60.40625 \r\nL 10.984375 69.390625 \r\nL 28.421875 72.90625 \r\nL 38.28125 72.90625 \r\nL 38.28125 8.296875 \r\nL 54.390625 8.296875 \r\nL 54.390625 0 \r\nL 12.40625 0 \r\nz\r\n\" id=\"DejaVuSans-49\"/>\r\n        <path d=\"M 10.796875 72.90625 \r\nL 49.515625 72.90625 \r\nL 49.515625 64.59375 \r\nL 19.828125 64.59375 \r\nL 19.828125 46.734375 \r\nQ 21.96875 47.46875 24.109375 47.828125 \r\nQ 26.265625 48.1875 28.421875 48.1875 \r\nQ 40.625 48.1875 47.75 41.5 \r\nQ 54.890625 34.8125 54.890625 23.390625 \r\nQ 54.890625 11.625 47.5625 5.09375 \r\nQ 40.234375 -1.421875 26.90625 -1.421875 \r\nQ 22.3125 -1.421875 17.546875 -0.640625 \r\nQ 12.796875 0.140625 7.71875 1.703125 \r\nL 7.71875 11.625 \r\nQ 12.109375 9.234375 16.796875 8.0625 \r\nQ 21.484375 6.890625 26.703125 6.890625 \r\nQ 35.15625 6.890625 40.078125 11.328125 \r\nQ 45.015625 15.765625 45.015625 23.390625 \r\nQ 45.015625 31 40.078125 35.4375 \r\nQ 35.15625 39.890625 26.703125 39.890625 \r\nQ 22.75 39.890625 18.8125 39.015625 \r\nQ 14.890625 38.140625 10.796875 36.28125 \r\nz\r\n\" id=\"DejaVuSans-53\"/>\r\n       </defs>\r\n       <use xlink:href=\"#DejaVuSans-8722\"/>\r\n       <use x=\"83.789062\" xlink:href=\"#DejaVuSans-49\"/>\r\n       <use x=\"147.412109\" xlink:href=\"#DejaVuSans-46\"/>\r\n       <use x=\"179.199219\" xlink:href=\"#DejaVuSans-53\"/>\r\n      </g>\r\n     </g>\r\n    </g>\r\n    <g id=\"xtick_3\">\r\n     <g id=\"line2d_3\">\r\n      <g>\r\n       <use style=\"stroke:#000000;stroke-width:0.8;\" x=\"132.976278\" xlink:href=\"#me70be6e9c8\" y=\"224.64\"/>\r\n      </g>\r\n     </g>\r\n     <g id=\"text_3\">\r\n      <!-- −1.0 -->\r\n      <g transform=\"translate(120.834872 239.238437)scale(0.1 -0.1)\">\r\n       <use xlink:href=\"#DejaVuSans-8722\"/>\r\n       <use x=\"83.789062\" xlink:href=\"#DejaVuSans-49\"/>\r\n       <use x=\"147.412109\" xlink:href=\"#DejaVuSans-46\"/>\r\n       <use x=\"179.199219\" xlink:href=\"#DejaVuSans-48\"/>\r\n      </g>\r\n     </g>\r\n    </g>\r\n    <g id=\"xtick_4\">\r\n     <g id=\"line2d_4\">\r\n      <g>\r\n       <use style=\"stroke:#000000;stroke-width:0.8;\" x=\"171.021733\" xlink:href=\"#me70be6e9c8\" y=\"224.64\"/>\r\n      </g>\r\n     </g>\r\n     <g id=\"text_4\">\r\n      <!-- −0.5 -->\r\n      <g transform=\"translate(158.880327 239.238437)scale(0.1 -0.1)\">\r\n       <use xlink:href=\"#DejaVuSans-8722\"/>\r\n       <use x=\"83.789062\" xlink:href=\"#DejaVuSans-48\"/>\r\n       <use x=\"147.412109\" xlink:href=\"#DejaVuSans-46\"/>\r\n       <use x=\"179.199219\" xlink:href=\"#DejaVuSans-53\"/>\r\n      </g>\r\n     </g>\r\n    </g>\r\n    <g id=\"xtick_5\">\r\n     <g id=\"line2d_5\">\r\n      <g>\r\n       <use style=\"stroke:#000000;stroke-width:0.8;\" x=\"209.067188\" xlink:href=\"#me70be6e9c8\" y=\"224.64\"/>\r\n      </g>\r\n     </g>\r\n     <g id=\"text_5\">\r\n      <!-- 0.0 -->\r\n      <g transform=\"translate(201.115625 239.238437)scale(0.1 -0.1)\">\r\n       <use xlink:href=\"#DejaVuSans-48\"/>\r\n       <use x=\"63.623047\" xlink:href=\"#DejaVuSans-46\"/>\r\n       <use x=\"95.410156\" xlink:href=\"#DejaVuSans-48\"/>\r\n      </g>\r\n     </g>\r\n    </g>\r\n    <g id=\"xtick_6\">\r\n     <g id=\"line2d_6\">\r\n      <g>\r\n       <use style=\"stroke:#000000;stroke-width:0.8;\" x=\"247.112642\" xlink:href=\"#me70be6e9c8\" y=\"224.64\"/>\r\n      </g>\r\n     </g>\r\n     <g id=\"text_6\">\r\n      <!-- 0.5 -->\r\n      <g transform=\"translate(239.16108 239.238437)scale(0.1 -0.1)\">\r\n       <use xlink:href=\"#DejaVuSans-48\"/>\r\n       <use x=\"63.623047\" xlink:href=\"#DejaVuSans-46\"/>\r\n       <use x=\"95.410156\" xlink:href=\"#DejaVuSans-53\"/>\r\n      </g>\r\n     </g>\r\n    </g>\r\n    <g id=\"xtick_7\">\r\n     <g id=\"line2d_7\">\r\n      <g>\r\n       <use style=\"stroke:#000000;stroke-width:0.8;\" x=\"285.158097\" xlink:href=\"#me70be6e9c8\" y=\"224.64\"/>\r\n      </g>\r\n     </g>\r\n     <g id=\"text_7\">\r\n      <!-- 1.0 -->\r\n      <g transform=\"translate(277.206534 239.238437)scale(0.1 -0.1)\">\r\n       <use xlink:href=\"#DejaVuSans-49\"/>\r\n       <use x=\"63.623047\" xlink:href=\"#DejaVuSans-46\"/>\r\n       <use x=\"95.410156\" xlink:href=\"#DejaVuSans-48\"/>\r\n      </g>\r\n     </g>\r\n    </g>\r\n    <g id=\"xtick_8\">\r\n     <g id=\"line2d_8\">\r\n      <g>\r\n       <use style=\"stroke:#000000;stroke-width:0.8;\" x=\"323.203551\" xlink:href=\"#me70be6e9c8\" y=\"224.64\"/>\r\n      </g>\r\n     </g>\r\n     <g id=\"text_8\">\r\n      <!-- 1.5 -->\r\n      <g transform=\"translate(315.251989 239.238437)scale(0.1 -0.1)\">\r\n       <use xlink:href=\"#DejaVuSans-49\"/>\r\n       <use x=\"63.623047\" xlink:href=\"#DejaVuSans-46\"/>\r\n       <use x=\"95.410156\" xlink:href=\"#DejaVuSans-53\"/>\r\n      </g>\r\n     </g>\r\n    </g>\r\n    <g id=\"xtick_9\">\r\n     <g id=\"line2d_9\">\r\n      <g>\r\n       <use style=\"stroke:#000000;stroke-width:0.8;\" x=\"361.249006\" xlink:href=\"#me70be6e9c8\" y=\"224.64\"/>\r\n      </g>\r\n     </g>\r\n     <g id=\"text_9\">\r\n      <!-- 2.0 -->\r\n      <g transform=\"translate(353.297443 239.238437)scale(0.1 -0.1)\">\r\n       <use xlink:href=\"#DejaVuSans-50\"/>\r\n       <use x=\"63.623047\" xlink:href=\"#DejaVuSans-46\"/>\r\n       <use x=\"95.410156\" xlink:href=\"#DejaVuSans-48\"/>\r\n      </g>\r\n     </g>\r\n    </g>\r\n   </g>\r\n   <g id=\"matplotlib.axis_2\">\r\n    <g id=\"ytick_1\">\r\n     <g id=\"line2d_10\">\r\n      <defs>\r\n       <path d=\"M 0 0 \r\nL -3.5 0 \r\n\" id=\"mb41c93e66b\" style=\"stroke:#000000;stroke-width:0.8;\"/>\r\n      </defs>\r\n      <g>\r\n       <use style=\"stroke:#000000;stroke-width:0.8;\" x=\"41.667188\" xlink:href=\"#mb41c93e66b\" y=\"209.015476\"/>\r\n      </g>\r\n     </g>\r\n     <g id=\"text_10\">\r\n      <!-- −600 -->\r\n      <g transform=\"translate(7.2 212.814695)scale(0.1 -0.1)\">\r\n       <defs>\r\n        <path d=\"M 33.015625 40.375 \r\nQ 26.375 40.375 22.484375 35.828125 \r\nQ 18.609375 31.296875 18.609375 23.390625 \r\nQ 18.609375 15.53125 22.484375 10.953125 \r\nQ 26.375 6.390625 33.015625 6.390625 \r\nQ 39.65625 6.390625 43.53125 10.953125 \r\nQ 47.40625 15.53125 47.40625 23.390625 \r\nQ 47.40625 31.296875 43.53125 35.828125 \r\nQ 39.65625 40.375 33.015625 40.375 \r\nz\r\nM 52.59375 71.296875 \r\nL 52.59375 62.3125 \r\nQ 48.875 64.0625 45.09375 64.984375 \r\nQ 41.3125 65.921875 37.59375 65.921875 \r\nQ 27.828125 65.921875 22.671875 59.328125 \r\nQ 17.53125 52.734375 16.796875 39.40625 \r\nQ 19.671875 43.65625 24.015625 45.921875 \r\nQ 28.375 48.1875 33.59375 48.1875 \r\nQ 44.578125 48.1875 50.953125 41.515625 \r\nQ 57.328125 34.859375 57.328125 23.390625 \r\nQ 57.328125 12.15625 50.6875 5.359375 \r\nQ 44.046875 -1.421875 33.015625 -1.421875 \r\nQ 20.359375 -1.421875 13.671875 8.265625 \r\nQ 6.984375 17.96875 6.984375 36.375 \r\nQ 6.984375 53.65625 15.1875 63.9375 \r\nQ 23.390625 74.21875 37.203125 74.21875 \r\nQ 40.921875 74.21875 44.703125 73.484375 \r\nQ 48.484375 72.75 52.59375 71.296875 \r\nz\r\n\" id=\"DejaVuSans-54\"/>\r\n       </defs>\r\n       <use xlink:href=\"#DejaVuSans-8722\"/>\r\n       <use x=\"83.789062\" xlink:href=\"#DejaVuSans-54\"/>\r\n       <use x=\"147.412109\" xlink:href=\"#DejaVuSans-48\"/>\r\n       <use x=\"211.035156\" xlink:href=\"#DejaVuSans-48\"/>\r\n      </g>\r\n     </g>\r\n    </g>\r\n    <g id=\"ytick_2\">\r\n     <g id=\"line2d_11\">\r\n      <g>\r\n       <use style=\"stroke:#000000;stroke-width:0.8;\" x=\"41.667188\" xlink:href=\"#mb41c93e66b\" y=\"177.983651\"/>\r\n      </g>\r\n     </g>\r\n     <g id=\"text_11\">\r\n      <!-- −400 -->\r\n      <g transform=\"translate(7.2 181.782869)scale(0.1 -0.1)\">\r\n       <defs>\r\n        <path d=\"M 37.796875 64.3125 \r\nL 12.890625 25.390625 \r\nL 37.796875 25.390625 \r\nz\r\nM 35.203125 72.90625 \r\nL 47.609375 72.90625 \r\nL 47.609375 25.390625 \r\nL 58.015625 25.390625 \r\nL 58.015625 17.1875 \r\nL 47.609375 17.1875 \r\nL 47.609375 0 \r\nL 37.796875 0 \r\nL 37.796875 17.1875 \r\nL 4.890625 17.1875 \r\nL 4.890625 26.703125 \r\nz\r\n\" id=\"DejaVuSans-52\"/>\r\n       </defs>\r\n       <use xlink:href=\"#DejaVuSans-8722\"/>\r\n       <use x=\"83.789062\" xlink:href=\"#DejaVuSans-52\"/>\r\n       <use x=\"147.412109\" xlink:href=\"#DejaVuSans-48\"/>\r\n       <use x=\"211.035156\" xlink:href=\"#DejaVuSans-48\"/>\r\n      </g>\r\n     </g>\r\n    </g>\r\n    <g id=\"ytick_3\">\r\n     <g id=\"line2d_12\">\r\n      <g>\r\n       <use style=\"stroke:#000000;stroke-width:0.8;\" x=\"41.667188\" xlink:href=\"#mb41c93e66b\" y=\"146.951825\"/>\r\n      </g>\r\n     </g>\r\n     <g id=\"text_12\">\r\n      <!-- −200 -->\r\n      <g transform=\"translate(7.2 150.751044)scale(0.1 -0.1)\">\r\n       <use xlink:href=\"#DejaVuSans-8722\"/>\r\n       <use x=\"83.789062\" xlink:href=\"#DejaVuSans-50\"/>\r\n       <use x=\"147.412109\" xlink:href=\"#DejaVuSans-48\"/>\r\n       <use x=\"211.035156\" xlink:href=\"#DejaVuSans-48\"/>\r\n      </g>\r\n     </g>\r\n    </g>\r\n    <g id=\"ytick_4\">\r\n     <g id=\"line2d_13\">\r\n      <g>\r\n       <use style=\"stroke:#000000;stroke-width:0.8;\" x=\"41.667188\" xlink:href=\"#mb41c93e66b\" y=\"115.92\"/>\r\n      </g>\r\n     </g>\r\n     <g id=\"text_13\">\r\n      <!-- 0 -->\r\n      <g transform=\"translate(28.304688 119.719219)scale(0.1 -0.1)\">\r\n       <use xlink:href=\"#DejaVuSans-48\"/>\r\n      </g>\r\n     </g>\r\n    </g>\r\n    <g id=\"ytick_5\">\r\n     <g id=\"line2d_14\">\r\n      <g>\r\n       <use style=\"stroke:#000000;stroke-width:0.8;\" x=\"41.667188\" xlink:href=\"#mb41c93e66b\" y=\"84.888175\"/>\r\n      </g>\r\n     </g>\r\n     <g id=\"text_14\">\r\n      <!-- 200 -->\r\n      <g transform=\"translate(15.579688 88.687393)scale(0.1 -0.1)\">\r\n       <use xlink:href=\"#DejaVuSans-50\"/>\r\n       <use x=\"63.623047\" xlink:href=\"#DejaVuSans-48\"/>\r\n       <use x=\"127.246094\" xlink:href=\"#DejaVuSans-48\"/>\r\n      </g>\r\n     </g>\r\n    </g>\r\n    <g id=\"ytick_6\">\r\n     <g id=\"line2d_15\">\r\n      <g>\r\n       <use style=\"stroke:#000000;stroke-width:0.8;\" x=\"41.667188\" xlink:href=\"#mb41c93e66b\" y=\"53.856349\"/>\r\n      </g>\r\n     </g>\r\n     <g id=\"text_15\">\r\n      <!-- 400 -->\r\n      <g transform=\"translate(15.579688 57.655568)scale(0.1 -0.1)\">\r\n       <use xlink:href=\"#DejaVuSans-52\"/>\r\n       <use x=\"63.623047\" xlink:href=\"#DejaVuSans-48\"/>\r\n       <use x=\"127.246094\" xlink:href=\"#DejaVuSans-48\"/>\r\n      </g>\r\n     </g>\r\n    </g>\r\n    <g id=\"ytick_7\">\r\n     <g id=\"line2d_16\">\r\n      <g>\r\n       <use style=\"stroke:#000000;stroke-width:0.8;\" x=\"41.667188\" xlink:href=\"#mb41c93e66b\" y=\"22.824524\"/>\r\n      </g>\r\n     </g>\r\n     <g id=\"text_16\">\r\n      <!-- 600 -->\r\n      <g transform=\"translate(15.579688 26.623743)scale(0.1 -0.1)\">\r\n       <use xlink:href=\"#DejaVuSans-54\"/>\r\n       <use x=\"63.623047\" xlink:href=\"#DejaVuSans-48\"/>\r\n       <use x=\"127.246094\" xlink:href=\"#DejaVuSans-48\"/>\r\n      </g>\r\n     </g>\r\n    </g>\r\n   </g>\r\n   <g id=\"line2d_17\">\r\n    <path clip-path=\"url(#pd40e6f1d68)\" d=\"M 56.885369 214.756364 \r\nL 132.976278 130.892856 \r\nL 132.976278 130.892856 \r\n\" style=\"fill:none;stroke:#1f77b4;stroke-linecap:square;stroke-width:1.5;\"/>\r\n   </g>\r\n   <g id=\"line2d_18\">\r\n    <path clip-path=\"url(#pd40e6f1d68)\" d=\"M 132.976278 130.892856 \r\nL 135.79446 127.952175 \r\nL 138.536475 125.408435 \r\nL 141.202323 123.235543 \r\nL 143.792003 121.408131 \r\nL 146.305517 119.901555 \r\nL 148.780947 118.674959 \r\nL 151.18021 117.729638 \r\nL 153.541389 117.033372 \r\nL 155.902568 116.569283 \r\nL 158.225664 116.339271 \r\nL 160.54876 116.334008 \r\nL 162.871856 116.553493 \r\nL 165.194952 116.997727 \r\nL 167.556131 117.679549 \r\nL 169.91731 118.593548 \r\nL 171.021733 119.100762 \r\nL 171.021733 119.100762 \r\n\" style=\"fill:none;stroke:#ff7f0e;stroke-linecap:square;stroke-width:1.5;\"/>\r\n   </g>\r\n   <g id=\"line2d_19\">\r\n    <path clip-path=\"url(#pd40e6f1d68)\" d=\"M 171.021733 119.100762 \r\nL 175.058588 120.926363 \r\nL 179.095443 122.509586 \r\nL 183.056131 123.827377 \r\nL 187.016819 124.911852 \r\nL 190.90134 125.748841 \r\nL 194.785861 126.361402 \r\nL 198.670382 126.749532 \r\nL 202.554902 126.913234 \r\nL 206.439423 126.852506 \r\nL 210.323944 126.567349 \r\nL 214.208465 126.057762 \r\nL 218.092986 125.323746 \r\nL 221.977507 124.3653 \r\nL 225.938195 123.156989 \r\nL 229.898883 121.71536 \r\nL 233.935738 120.005917 \r\nL 237.972593 118.054098 \r\nL 242.085615 115.816172 \r\nL 246.274804 113.278162 \r\nL 247.112642 112.739238 \r\nL 247.112642 112.739238 \r\n\" style=\"fill:none;stroke:#2ca02c;stroke-linecap:square;stroke-width:1.5;\"/>\r\n   </g>\r\n   <g id=\"line2d_20\">\r\n    <path clip-path=\"url(#pd40e6f1d68)\" d=\"M 247.112642 112.739238 \r\nL 250.959079 110.373152 \r\nL 254.767433 108.290644 \r\nL 258.49962 106.50093 \r\nL 262.193723 104.974292 \r\nL 265.849743 103.703199 \r\nL 269.467679 102.680195 \r\nL 273.047531 101.897902 \r\nL 276.589301 101.34902 \r\nL 280.13107 101.024025 \r\nL 283.672839 100.922915 \r\nL 285.158097 100.947144 \r\nL 285.158097 100.947144 \r\n\" style=\"fill:none;stroke:#d62728;stroke-linecap:square;stroke-width:1.5;\"/>\r\n   </g>\r\n   <g id=\"line2d_21\">\r\n    <path clip-path=\"url(#pd40e6f1d68)\" d=\"M 285.158097 100.947144 \r\nL 287.900111 100.916392 \r\nL 290.642126 100.661987 \r\nL 293.384141 100.183929 \r\nL 296.126156 99.482218 \r\nL 298.944337 98.527958 \r\nL 301.762519 97.337447 \r\nL 304.656868 95.868845 \r\nL 307.551217 94.15105 \r\nL 310.521733 92.128934 \r\nL 313.568416 89.782305 \r\nL 316.691266 87.090456 \r\nL 319.890283 84.032159 \r\nL 323.165468 80.585671 \r\nL 326.516819 76.728731 \r\nL 329.944337 72.438557 \r\nL 333.448023 67.691855 \r\nL 337.027875 62.464808 \r\nL 340.683895 56.733083 \r\nL 344.492249 50.339737 \r\nL 348.37677 43.374066 \r\nL 352.337458 35.809666 \r\nL 356.374313 27.619616 \r\nL 360.563502 18.60797 \r\nL 361.249006 17.083636 \r\nL 361.249006 17.083636 \r\n\" style=\"fill:none;stroke:#9467bd;stroke-linecap:square;stroke-width:1.5;\"/>\r\n   </g>\r\n   <g id=\"patch_3\">\r\n    <path d=\"M 41.667188 224.64 \r\nL 41.667188 7.2 \r\n\" style=\"fill:none;stroke:#000000;stroke-linecap:square;stroke-linejoin:miter;stroke-width:0.8;\"/>\r\n   </g>\r\n   <g id=\"patch_4\">\r\n    <path d=\"M 376.467188 224.64 \r\nL 376.467188 7.2 \r\n\" style=\"fill:none;stroke:#000000;stroke-linecap:square;stroke-linejoin:miter;stroke-width:0.8;\"/>\r\n   </g>\r\n   <g id=\"patch_5\">\r\n    <path d=\"M 41.667188 224.64 \r\nL 376.467188 224.64 \r\n\" style=\"fill:none;stroke:#000000;stroke-linecap:square;stroke-linejoin:miter;stroke-width:0.8;\"/>\r\n   </g>\r\n   <g id=\"patch_6\">\r\n    <path d=\"M 41.667188 7.2 \r\nL 376.467188 7.2 \r\n\" style=\"fill:none;stroke:#000000;stroke-linecap:square;stroke-linejoin:miter;stroke-width:0.8;\"/>\r\n   </g>\r\n  </g>\r\n </g>\r\n <defs>\r\n  <clipPath id=\"pd40e6f1d68\">\r\n   <rect height=\"217.44\" width=\"334.8\" x=\"41.667188\" y=\"7.2\"/>\r\n  </clipPath>\r\n </defs>\r\n</svg>\r\n",
      "image/png": "[encoded data removed]"
     },
     "metadata": {
      "needs_background": "light"
     }
    }
   ],
   "source": [
    "NM = NumMethods(Xs, Ys)\n",
    "t = time()\n",
    "NM.spline()\n",
    "print(f'\\nEl tiempo de ejecución fue de {time() - t} segundos.\\n')\n",
    "NM.Grafica()"
   ]
  },
  {
   "cell_type": "code",
   "execution_count": null,
   "metadata": {},
   "outputs": [],
   "source": []
  }
 ]
}