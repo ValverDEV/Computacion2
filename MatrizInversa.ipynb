{
 "metadata": {
  "language_info": {
   "codemirror_mode": {
    "name": "ipython",
    "version": 3
   },
   "file_extension": ".py",
   "mimetype": "text/x-python",
   "name": "python",
   "nbconvert_exporter": "python",
   "pygments_lexer": "ipython3",
   "version": "3.7.6"
  },
  "orig_nbformat": 2,
  "kernelspec": {
   "name": "python3",
   "display_name": "Python 3.7.6 64-bit ('base': conda)",
   "metadata": {
    "interpreter": {
     "hash": "0613f9aabd2d046f4fbf75f117fc5348cb6021417cde57c69b5a86554e8e34ae"
    }
   }
  }
 },
 "nbformat": 4,
 "nbformat_minor": 2,
 "cells": [
  {
   "cell_type": "code",
   "execution_count": 1,
   "metadata": {},
   "outputs": [],
   "source": [
    "import numpy as np\n",
    "from random import randint"
   ]
  },
  {
   "cell_type": "code",
   "execution_count": 23,
   "metadata": {},
   "outputs": [],
   "source": [
    "def matrizAleatoria(dim):\n",
    "    return np.array([[randint(0,9) for i in range(0,dim)] for i in range(0,dim)], dtype=float)\n",
    "\n",
    "def crearMatriz():\n",
    "    dim = int(input('Dimensiones de la matriz cuadrada: '))\n",
    "    matriz = np.empty(dim, dtype=float)\n",
    "    for i in range(0,len(matriz)):\n",
    "        for j in range(0,len(matriz)):\n",
    "            matriz[i][j] = int(input(f'x[{i+1}][{j+1}] = '))\n",
    "    return matriz"
   ]
  },
  {
   "cell_type": "code",
   "execution_count": 12,
   "metadata": {},
   "outputs": [],
   "source": [
    "class Gauss:\n",
    "\n",
    "    def cambiarFilas(self, matriz, fila):\n",
    "        cambio = 0\n",
    "        for i in range(1, len(matriz) - fila):\n",
    "            if matriz[fila + i][fila] != 0:\n",
    "                cambio = i\n",
    "                break\n",
    "        \n",
    "        if not cambio:\n",
    "            return False\n",
    "            \n",
    "        fila1 = fila\n",
    "        fila2 = fila + cambio\n",
    "\n",
    "        temp = matriz[fila1].copy()\n",
    "        matriz[fila1] = matriz[fila2]\n",
    "        matriz[fila2] = temp\n",
    "        return matriz\n",
    "\n",
    "    def sumarFilas(self, matriz, fila):\n",
    "        for i in range(1, len(matriz) -  fila):\n",
    "            reduccion = matriz[fila][fila].copy()\n",
    "            multiplo = -1*matriz[fila+i][fila].copy()\n",
    "            matriz[fila + i] = matriz[fila+i] + matriz[fila] * multiplo / reduccion\n",
    "        return matriz\n",
    "\n",
    "    def checarCeros(self, matriz, fila):\n",
    "        if matriz[fila][fila] == 0:\n",
    "            return True\n",
    "        return False\n",
    "\n",
    "    def transformar(self, matriz):\n",
    "        copia = matriz.copy()\n",
    "        finalInv = matriz.copy()\n",
    "        for i in range(0,len(matriz)):\n",
    "            finalInv[i] = copia[-1+-i]\n",
    "        a = np.hsplit(finalInv, 2)[0]\n",
    "        aCopia = a.copy()\n",
    "        b = np.hsplit(finalInv, 2)[1]\n",
    "        bCopia = b.copy()\n",
    "        for i in range(0,len(a)):\n",
    "            for j in range(0,len(a[0])):\n",
    "                a[i][j] = aCopia[i][-1-j]\n",
    "                b[i][j] = bCopia[i][-1-j]\n",
    "        finalInv = np.concatenate((a,b), axis=1)\n",
    "        return finalInv\n",
    "\n",
    "    def Gauss(self, matriz):\n",
    "        for fila in range(0,len(matriz)):\n",
    "            if self.checarCeros(matriz, fila):\n",
    "                matriz = self.cambiarFilas(matriz, fila)\n",
    "                if not np.any(matriz):\n",
    "                    return False\n",
    "            self.sumarFilas(matriz, fila)\n",
    "        return matriz\n",
    "\n",
    "    def unos(self, matriz):\n",
    "        for i in range(0,len(matriz)):\n",
    "            matriz[i] /= matriz[i][i]\n",
    "        return matriz\n",
    "\n",
    "\n",
    "    def inversa(self, matriz):\n",
    "        matriz = np.concatenate((matriz, np.identity(len(matriz))), axis=1)\n",
    "        matriz = self.Gauss(matriz)\n",
    "        if not np.any(matriz):\n",
    "            print(\"La matriz no tiene solución\")\n",
    "            return False\n",
    "        matriz = self.transformar(matriz)\n",
    "        matriz = self.Gauss(matriz)\n",
    "        matriz = self.transformar(matriz)\n",
    "        matriz = self.unos(matriz)\n",
    "        return np.hsplit(matriz, 2)[1]"
   ]
  },
  {
   "cell_type": "code",
   "execution_count": 18,
   "metadata": {},
   "outputs": [
    {
     "output_type": "execute_result",
     "data": {
      "text/plain": [
       "array([[3., 5., 6., 5., 1.],\n",
       "       [0., 3., 6., 8., 7.],\n",
       "       [9., 4., 3., 8., 4.],\n",
       "       [9., 5., 1., 9., 6.],\n",
       "       [6., 4., 2., 3., 3.]])"
      ]
     },
     "metadata": {},
     "execution_count": 18
    }
   ],
   "source": [
    "M = matrizAleatoria(5)\n",
    "M"
   ]
  },
  {
   "cell_type": "code",
   "execution_count": 19,
   "metadata": {},
   "outputs": [
    {
     "output_type": "stream",
     "name": "stdout",
     "text": [
      "[[-0.09777778 -0.02777778  0.22555556 -0.16111111  0.11888889]\n [ 0.22666667 -0.08333333 -0.44333333  0.31666667  0.07666667]\n [-0.02666667  0.08333333  0.24333333 -0.31666667  0.12333333]\n [ 0.10222222 -0.02777778  0.02555556  0.17222222 -0.34777778]\n [-0.19111111  0.13888889 -0.04777778 -0.06111111  0.25888889]]\n"
     ]
    }
   ],
   "source": [
    "print(Gauss().inversa(M))"
   ]
  }
 ]
}